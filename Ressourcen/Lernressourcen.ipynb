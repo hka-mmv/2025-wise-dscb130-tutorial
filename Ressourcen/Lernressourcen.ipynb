{
 "cells": [
  {
   "cell_type": "markdown",
   "id": "34965ca7-279e-46f8-8bb7-9f9eb01c3669",
   "metadata": {},
   "source": [
    "### **Ressourcenliste für das Studium im 1. Semester**\n",
    "\n",
    "Diese Link-Sammlung wird regelmäßig aktualisiert und um Tools, die wir als nützlich erachten, ergänzt.\n",
    "\n",
    "Vielleicht ist hier ja etwas für euch dabei! :)"
   ]
  },
  {
   "cell_type": "markdown",
   "id": "287e1a12-b95e-499b-a64d-61962c272c00",
   "metadata": {},
   "source": [
    "#### **1. Literatur**\n",
    "\n",
    "- [KIT-Bibliothek](https://www.bibliothek.kit.edu/index.php): Die Website der KIT-Bibliothek, über die auch digitale Kopien von Büchern bezogen werden können.\n",
    "- [wiso](https://www.wiso-net.de/?targetUrl=%2F): Datenbank mit Zugang zu Literatur, Fachzeitschriften, Statistiken, etc.\n",
    "- [Springer](https://link.springer.com): Bietet Login mit Campus-Zugang an, bietet Zugriff auf einige digitale Ausgaben von Büchern vom Springer-Verlag.\n",
    "- [statista](https://de.statista.com): Mit eurem RZ-Zugang könnt ihr auf umfangreiche Statistiken zugreifen.\n",
    "\n",
    "#### **2. Theoretisches zu Python**\n",
    "\n",
    "- [w3schools](https://www.w3schools.com/python): Umfassendes Python-Tutorial, nach Funktionalitäten gegliedert.\n",
    "\n",
    "#### **3. Praktische Übungen zu Python**\n",
    "\n",
    "[boot.dev](https://www.boot.dev): Spielerische Übungen zu verschiedenen Programmiersprachen."
   ]
  }
 ],
 "metadata": {
  "kernelspec": {
   "display_name": "Python 3 (ipykernel)",
   "language": "python",
   "name": "python3"
  },
  "language_info": {
   "codemirror_mode": {
    "name": "ipython",
    "version": 3
   },
   "file_extension": ".py",
   "mimetype": "text/x-python",
   "name": "python",
   "nbconvert_exporter": "python",
   "pygments_lexer": "ipython3",
   "version": "3.12.8"
  }
 },
 "nbformat": 4,
 "nbformat_minor": 5
}
