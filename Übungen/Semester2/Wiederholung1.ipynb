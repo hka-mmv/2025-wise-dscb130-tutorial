{
 "cells": [
  {
   "cell_type": "markdown",
   "id": "9d764e0f",
   "metadata": {},
   "source": [
    "# **Python Wiederholungen für das 2. Semester**"
   ]
  },
  {
   "cell_type": "markdown",
   "id": "ed00de8e",
   "metadata": {},
   "source": [
    "## **1. Variablen und Konstanten**\n",
    "\n",
    "**Aufgabe:**\n",
    "\n",
    "1. Definiere eine Variable anzahl_items mit dem Wert 150 und eine Konstante MAX_ITEMS_PRO_SEITE mit dem Wert 20 (Konstanten sind immer Uppercase)\n",
    "\n",
    "2. Gebe die Werte mit F-Strings aus\n",
    "\n",
    "3. Importiere die Math Bibliothek\n",
    "\n",
    "4. Berechne die minimale Seitenanzahl mit math.ceil(), speichere den Wert in min_seiten und gebe diesen Ebenfalls aus.\n",
    "\n",
    "(Tipp: Nutze deskriptive Namen und keine Abkürzungen wie n oder m.)"
   ]
  },
  {
   "cell_type": "code",
   "execution_count": null,
   "id": "049903fa",
   "metadata": {},
   "outputs": [],
   "source": [
    "# hier schreiben"
   ]
  },
  {
   "cell_type": "markdown",
   "id": "23914b00",
   "metadata": {},
   "source": [
    "## **2. Listen**\n",
    "\n",
    "**Aufgabe:**\n",
    "\n",
    "Gegeben ist eine Liste von Namen. Erstelle eine Funktion begrüße_alle, die jeden Namen in der Liste mit einem F-String begrüßt."
   ]
  },
  {
   "cell_type": "code",
   "execution_count": null,
   "id": "9774d3c1",
   "metadata": {},
   "outputs": [],
   "source": [
    "namen = [\"Lin\", \"Daria\", \"Aliena\", \"Fabian\", \"Michael\", \"Waldemar\", \"Daniel\", \"Patrick\"]\n",
    "\n",
    "# hier dein Code"
   ]
  },
  {
   "cell_type": "markdown",
   "id": "40ede382",
   "metadata": {},
   "source": [
    "## **3. Funktionen**\n",
    "Best Practices für Funktionen:\n",
    "\n",
    "Wichtig: Funktionen sollten nur **eine** klare Aufgabe erfüllen.\n",
    "\n",
    "Deskriptive Namen: Verwende Verben \n",
    "\n",
    "    z.B. berechne_summe, validiere_eingabe\n",
    "\n",
    "Type-Hinting: Nutze Type-Hints, um die erwarteten Datentypen der Argumente und des Rückgabewerts zu spezifizieren (verbessert die Lesbarkeit und Tool-Unterstützung)\n",
    "\n",
    "    z.B. berechne_gesamtpreis(einzelpreise: list, rabatt=0.0) -> float:\n",
    "\n",
    "Docstrings: Füge einen Docstring hinzu, der kurz erklärt, was die Funktion tut, welche Argumente sie erwartet und was sie zurückgibt. Der Docstring kommt direkt nach dem Funktions-Header\n",
    "\n",
    "    z.B. \"\"\"\n",
    "        Beschreibung Funktion\n",
    "\n",
    "        Args:\n",
    "            eingabe_parameter_1 (Datentyp): Was genau\n",
    "            eingabe_parameter_2 (Datentyp): Was genau, Beispielwerte\n",
    "\n",
    "        Returns:\n",
    "            Datentyp: Beschreibungs was genau\n",
    "        \"\"\"\n",
    "\n",
    "\n",
    "### **Übung 3.1: Eine einfache, dokumentierte Funktion**\n",
    "**Aufgabe:**\n",
    "\n",
    "Schreibe eine Funktion berechne_rabattierten_preis, die einen original_preis (float) und einen rabatt_prozent (float zwischen 0 und 100) entgegennimmt und den endgültigen Preis zurückgibt.\n",
    "\n",
    "Verwende Type-Hints und einen Docstring."
   ]
  },
  {
   "cell_type": "code",
   "execution_count": null,
   "id": "23b8268d",
   "metadata": {},
   "outputs": [],
   "source": [
    "# hier dein Code"
   ]
  },
  {
   "cell_type": "markdown",
   "id": "c6aaa586",
   "metadata": {},
   "source": [
    "### **Übung 3.2: Funktion mit Standardwert und Gültigkeitsprüfung**\n",
    "\n",
    "**Aufgabe:**\n",
    "\n",
    "Erweitere die Funktion, indem du einen Standardwert für den Rabatt festlegst. Stelle außerdem sicher, dass die Funktion nur dann ausgeführt wird, wenn der Rabatt gültig ist (raise ValueError())"
   ]
  },
  {
   "cell_type": "markdown",
   "id": "146eb19f",
   "metadata": {},
   "source": [
    "## **4. Dictionaries**\n",
    "\n",
    "Dictionaries sind eine Schlüssel-Wert-Speicherstruktur in Python, ideal für die Darstellung strukturierter Daten (wie Objekte oder Datenbankeinträge).\n",
    "\n",
    "### **Übung 4.1: Erstellen und Zugreifen**\n",
    "\n",
    "**Aufgabe:**\n",
    "\n",
    "1. Erstelle ein Dictionary namens benutzerprofil mit folgenden Schlüssel-Wert-Paaren:\n",
    "\n",
    "    - 'name': 'Anna'\n",
    "\n",
    "    - 'alter': 28\n",
    "\n",
    "    - 'stadt': 'Berlin'\n",
    "\n",
    "2. Gib den Wert des Schlüssels 'alter' aus\n",
    "\n",
    "3. Füge einen neuen Schlüssel 'job' mit dem Wert 'Ingenieurin' hinzu\n",
    "\n",
    "4. Gib das gesamte Dictionary aus"
   ]
  },
  {
   "cell_type": "code",
   "execution_count": null,
   "id": "6436806e",
   "metadata": {},
   "outputs": [],
   "source": [
    "# hier dein Code"
   ]
  },
  {
   "cell_type": "markdown",
   "id": "d85fd786",
   "metadata": {},
   "source": [
    "### **Übung 4.2: Iteration und Existenzprüfung**\n",
    "\n",
    "**Aufgabe:**\n",
    "\n",
    "1. Prüfe, ob der Schlüssel 'email' im benutzerprofil existiert. Wenn nicht, gib eine entsprechende Meldung aus\n",
    "\n",
    "2. Iteriere über alle Schlüssel und Werte des Dictionaries und gib sie im Format \"Schlüssel: Wert\" aus\n",
    "\n",
    "(Tipp: Verwende die get()-Methode mit einem Standardwert, um einen Fehler zu vermeiden, wenn ein Schlüssel nicht existiert. Verwende die .items()-Methode für die Iteration)"
   ]
  },
  {
   "cell_type": "code",
   "execution_count": null,
   "id": "33f114da",
   "metadata": {},
   "outputs": [],
   "source": [
    "# dein Code hier"
   ]
  },
  {
   "cell_type": "markdown",
   "id": "1f92ef31",
   "metadata": {},
   "source": [
    "## **5. Dateien öffnen, Lesen und Schreiben 💾**\n",
    "\n",
    "### **Übung 5.1: In eine Datei schreiben**\n",
    "\n",
    "**Aufgabe:**\n",
    "\n",
    "1. Schreibe händisch die drei Zeilen \"Hallo Welt\", \"Das ist Zeile 2\" und \"Und die letzte Zeile\" in eine neue Datei namens beispieldaten.txt\n",
    "\n",
    "2. Verwende den with open(...)-Block und den Modus 'w' (write/schreiben, überschreibt existierende Datei) und schreibe ein Elvchen oder einen anderen kurzen Text mit mehreren Zeilen in die beispeildaten.txt Datei (Zeilenumbruch \\n)"
   ]
  },
  {
   "cell_type": "code",
   "execution_count": null,
   "id": "3da6b8ec",
   "metadata": {},
   "outputs": [],
   "source": [
    "# dein Code hier"
   ]
  },
  {
   "cell_type": "markdown",
   "id": "ed04a99d",
   "metadata": {},
   "source": [
    "### **Übung 5.2: Aus einer Datei lesen**\n",
    "\n",
    "**Aufgabe:**\n",
    "\n",
    "1. Lese den Inhalt der soeben erstellten Datei beispieldaten.txt mit dem Modus 'r' (read/lesen) wieder ein\n",
    "\n",
    "2. Verwende die Methode .readlines(), um den Inhalt zeilenweise als Liste zu erhalten\n",
    "\n",
    "3. Gib die Liste der gelesenen Zeilen aus."
   ]
  },
  {
   "cell_type": "code",
   "execution_count": null,
   "id": "48783ff0",
   "metadata": {},
   "outputs": [],
   "source": [
    "# dein Code hier"
   ]
  },
  {
   "cell_type": "markdown",
   "id": "812c0b97",
   "metadata": {},
   "source": [
    "## **weitere Best Practices**\n",
    "\n",
    "Thema      | Schlechte Praxis ❌ | Gute Praxis ✅\n",
    "|----------|---------------------|-----------------|\n",
    "Bedingungen\t| if variable == True:\t| if variable: oder if variable is True:\n",
    "Listen-Iteration |\tfor i in range(len(meine_liste)):\t| for element in meine_liste:\n",
    "Index-Iteration\t| for i in range(len(l)): l[i] = ...\t| for i, element in enumerate(meine_liste):\n",
    "Strings\t| 'Hallo ' + name + '!' |\tf'Hallo {name}!' (F-Strings)\n",
    "Dateien schließen\t| f = open('data.txt', 'r'); f.close()\t| with open('data.txt', 'r') as f:"
   ]
  }
 ],
 "metadata": {
  "kernelspec": {
   "display_name": "base",
   "language": "python",
   "name": "python3"
  },
  "language_info": {
   "name": "python",
   "version": "3.12.4"
  }
 },
 "nbformat": 4,
 "nbformat_minor": 5
}
