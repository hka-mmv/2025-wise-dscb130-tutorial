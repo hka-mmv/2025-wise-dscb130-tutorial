{
 "cells": [
  {
   "cell_type": "markdown",
   "id": "3c3a62e6",
   "metadata": {},
   "source": [
    "# **🐍 Objektorientierte Programmierung (OOP) in Python 🐍**"
   ]
  },
  {
   "cell_type": "markdown",
   "id": "c1883228",
   "metadata": {},
   "source": [
    "Die Objektorientierte Programmierung (OOP) ist ein Programmierparadigma, das reale Konzepte in Software abbildet. Anstatt nur Anweisungen (Funktionen) zu schreiben, modellieren wir **Objekte**, die sowohl **Daten** (Eigenschaften/Attribute) als auch **Verhalten** (Funktionen/Methoden) enthalten.\n",
    "\n",
    "Stell dir vor, du baust ein Haus. Die **Klasse** ist der **Bauplan** (das allgemeine Konzept \"Haus\"). Ein **Objekt** ist das **fertige Haus** (eine konkrete Instanz dieses Bauplans). Jedes Haus (Objekt) hat spezifische Eigenschaften wie die Farbe des Daches oder die Anzahl der Fenster (Attribute) und kann bestimmte Aktionen ausführen, wie zum Beispiel die Beleuchtung einschalten (Methoden)."
   ]
  },
  {
   "cell_type": "markdown",
   "id": "c55223cf",
   "metadata": {},
   "source": [
    "### **🔑 Die 4 Säulen der OOP (Kurzer Überblick)**\n",
    "1. **Kapselung (Encapsulation):** Bündelung von Daten und den zugehörigen Funktionen (Methoden) in einer Einheit (der Klasse). Schützt Daten vor ungewolltem Zugriff und Manipulation von außen (in Python oft durch Konvention mit einem führenden Unterstrich _ oder doppelten Unterstrich __ umgesetzt).\n",
    "\n",
    "2. **Abstraktion (Abstraction):** Fokussierung auf die wesentlichen Merkmale, während unwichtige Details verborgen bleiben. Man nutzt das Objekt, ohne dessen interne Funktionsweise im Detail kennen zu müssen.\n",
    "\n",
    "3. **Vererbung (Inheritance):** Eine neue Klasse (Unterklasse/Subklasse) kann die Attribute und Methoden einer existierenden Klasse (Oberklasse/Superklasse) übernehmen. Dies fördert die Wiederverwendung von Code.\n",
    "\n",
    "4. **Polymorphie (Polymorphism):** Bedeutet \"Viele Formen\". Verschiedene Objekte können auf dieselbe Nachricht (Methodenaufruf) unterschiedlich reagieren, da jede Klasse die Methode auf ihre eigene Weise implementiert."
   ]
  },
  {
   "cell_type": "markdown",
   "id": "4fc3ba5b",
   "metadata": {},
   "source": [
    "### **🧱 Beispiel**"
   ]
  },
  {
   "cell_type": "code",
   "execution_count": 2,
   "id": "a6e5ced4",
   "metadata": {},
   "outputs": [],
   "source": [
    "# Klassendefinition\n",
    "class Hund:\n",
    "    # Klassenattribut: Gilt für alle Instanzen, oft ein Standardwert\n",
    "    spezies = \"Canis familiaris\"\n",
    "\n",
    "    # Der Konstruktor: Wird aufgerufen, wenn ein neues Objekt erstellt wird\n",
    "    # '__init__' ist die Initialisierungsmethode\n",
    "    def __init__(self, name, alter):\n",
    "        # Instanzattribute: Spezifisch für jedes Objekt\n",
    "        self.name = name\n",
    "        self.alter = alter\n",
    "\n",
    "    # Instanzmethode: Beschreibt ein Verhalten des Objekts\n",
    "    def bellen(self):\n",
    "        return f\"{self.name} bellt: Wuff! Wuff!\"\n",
    "\n",
    "    def geburtstag_feiern(self):\n",
    "        self.alter += 1\n",
    "        return f\"Herzlichen Glückwunsch! {self.name} ist jetzt {self.alter} Jahre alt.\""
   ]
  },
  {
   "cell_type": "code",
   "execution_count": 3,
   "id": "ea72976c",
   "metadata": {},
   "outputs": [
    {
     "name": "stdout",
     "output_type": "stream",
     "text": [
      "Hund 1: Name=Bello, Alter=5, Spezies=Canis familiaris\n",
      "Hund 2: Name=Luna, Alter=2, Spezies=Canis familiaris\n",
      "Bello bellt: Wuff! Wuff!\n",
      "Herzlichen Glückwunsch! Luna ist jetzt 3 Jahre alt.\n",
      "Neues Alter von Luna: 3\n"
     ]
    }
   ],
   "source": [
    "# Objektinstanziierung und Zugriff\n",
    "# Erstellt zwei Objekte (Instanzen) der Klasse Hund\n",
    "hund1 = Hund(\"Bello\", 5)\n",
    "hund2 = Hund(\"Luna\", 2)\n",
    "\n",
    "# Zugriff auf Attribute\n",
    "print(f\"Hund 1: Name={hund1.name}, Alter={hund1.alter}, Spezies={hund1.spezies}\")\n",
    "print(f\"Hund 2: Name={hund2.name}, Alter={hund2.alter}, Spezies={hund2.spezies}\")\n",
    "\n",
    "# Zugriff auf Methoden\n",
    "print(hund1.bellen())\n",
    "print(hund2.geburtstag_feiern())\n",
    "print(f\"Neues Alter von Luna: {hund2.alter}\")"
   ]
  },
  {
   "cell_type": "markdown",
   "id": "54cd0478",
   "metadata": {},
   "source": [
    "### **🏋️ Aufgaben**\n",
    "\n",
    "**Aufgabe 1:** Erstellung einer Klasse mit Attributen und Methoden zur Berechnung eines Rechtecks\n",
    "\n",
    "1. Erstelle eine Klasse namens Rechteck.\n",
    "\n",
    "2. Definiere den Konstruktor (\\_\\_init\\_\\_), der zwei Instanzattribute initialisiert: breite und hoehe.\n",
    "\n",
    "3. Implementiere eine Methode flaeche_berechnen(), die die Fläche (breite * hoehe) des Rechtecks zurückgibt.\n",
    "\n",
    "4. Implementiere eine Methode umfang_berechnen(), die den Umfang (2 * (breite + hoehe)) zurückgibt.\n",
    "\n",
    "5. Instanziiere ein Rechteck-Objekt mit der Breite 10 und der Höhe 5.\n",
    "\n",
    "6. Gib die berechnete Fläche und den Umfang aus."
   ]
  },
  {
   "cell_type": "code",
   "execution_count": 4,
   "id": "45a72767",
   "metadata": {},
   "outputs": [],
   "source": [
    "# Dein Code hier..."
   ]
  },
  {
   "cell_type": "markdown",
   "id": "d253114c",
   "metadata": {},
   "source": [
    "**Aufgabe 2:** Nutzung von Vererbung, um Code wiederzuverwenden und Spezialisierung zu ermöglichen mit Fahrzeug und Auto.\n",
    "\n",
    "1. Erstelle die Oberklasse Fahrzeug.\n",
    "\n",
    "    - Konstruktor (\\_\\_init\\_\\_) mit Attributen: marke und geschwindigkeit (Startwert 0).\n",
    "\n",
    "    - Methode beschleunigen(wert), die die Geschwindigkeit um den wert erhöht.\n",
    "\n",
    "    - Methode daten_anzeigen(), die Marke und Geschwindigkeit ausgibt.\n",
    "\n",
    "2. Erstelle die Unterklasse Auto, die von Fahrzeug erbt.\n",
    "\n",
    "    - Der Konstruktor soll zusätzlich das Attribut anzahl_tueren initialisieren und den Konstruktor der Oberklasse aufrufen (mit super().\\_\\_init\\_\\_()).\n",
    "\n",
    "    - Implementiere die Methode daten_anzeigen() in Auto neu (Polymorphie), sodass sie zusätzlich die anzahl_tueren ausgibt."
   ]
  },
  {
   "cell_type": "code",
   "execution_count": 5,
   "id": "e2b4f9fe",
   "metadata": {},
   "outputs": [],
   "source": [
    "# Dein Code hier..."
   ]
  },
  {
   "cell_type": "markdown",
   "id": "019cba3e",
   "metadata": {},
   "source": [
    "**Aufgabe 3:** Erstelle ein kleines Bibliothekssystem, das die konventionelle Kapselung von Attributen mit Getter-Methoden (oder Python Properties) verwendet und Vererbung einsetzt\n",
    "\n",
    "1. Erstelle die Basisklasse Medium:\n",
    "\n",
    "    - **Konstruktor (\\_\\_init\\_\\_):** Initialisiere zwei private Instanzattribute: self.\\_\\_titel und self.\\_\\_ausgeliehen (Standardwert: False). Verwende hierfür den doppelten Unterstrich (\\_\\_), um die Namensverschleierung (Name Mangling) zu demonstrieren.\n",
    "\n",
    "    - **Property (Getter):** Implementiere eine @property-Methode titel, um den Titel von außen lesbar zu machen.\n",
    "\n",
    "    - **Methode ausleihen():** Ändere den Status von self.\\_\\_ausgeliehen auf True, aber nur, wenn es noch nicht ausgeliehen ist. Gib eine entsprechende Meldung aus.\n",
    "\n",
    "    - **Methode zurueckgeben():** Ändere den Status von self.\\_\\_ausgeliehen auf False, aber nur, wenn es tatsächlich ausgeliehen ist. Gib eine entsprechende Meldung aus.\n",
    "\n",
    "    - **Property (Getter):** Implementiere eine @property-Methode ist_ausgeliehen, die den aktuellen Ausleihstatus zurückgibt.\n",
    "\n",
    "2. Erstelle die abgeleitete Klasse Buch, die von Medium erbt:\n",
    "\n",
    "    - **Konstruktor (\\_\\_init\\_\\_):** Rufe den Konstruktor der Basisklasse auf und initialisiere zusätzlich das öffentliche Attribut autor.\n",
    "\n",
    "3. Instanziierung und Test:\n",
    "\n",
    "    - Erstelle ein Buch-Objekt: mein_buch = Buch(\"Der Herr der Ringe\", \"J.R.R. Tolkien\").\n",
    "\n",
    "    - Versuche, direkt auf das private Attribut __titel zuzugreifen (z.B. mein_buch.__titel). Beobachte den Fehler.\n",
    "\n",
    "    - Greife über die @property auf den Titel zu (z.B. mein_buch.titel).\n",
    "\n",
    "    - Leihe das Buch aus.\n",
    "\n",
    "    - Versuche, das Buch zweimal hintereinander auszuleihen.\n",
    "\n",
    "    - Gib das Buch zurück."
   ]
  },
  {
   "cell_type": "code",
   "execution_count": 6,
   "id": "0c8e6f0f",
   "metadata": {},
   "outputs": [],
   "source": [
    "# Dein Code hier..."
   ]
  }
 ],
 "metadata": {
  "kernelspec": {
   "display_name": "base",
   "language": "python",
   "name": "python3"
  },
  "language_info": {
   "codemirror_mode": {
    "name": "ipython",
    "version": 3
   },
   "file_extension": ".py",
   "mimetype": "text/x-python",
   "name": "python",
   "nbconvert_exporter": "python",
   "pygments_lexer": "ipython3",
   "version": "3.12.4"
  }
 },
 "nbformat": 4,
 "nbformat_minor": 5
}
