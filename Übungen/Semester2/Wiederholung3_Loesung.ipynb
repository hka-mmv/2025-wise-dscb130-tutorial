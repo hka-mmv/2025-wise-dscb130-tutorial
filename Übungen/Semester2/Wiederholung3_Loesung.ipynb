{
 "cells": [
  {
   "cell_type": "markdown",
   "id": "dfaee313",
   "metadata": {},
   "source": [
    "# **Python Wiederholungen für das 2. Semester**"
   ]
  },
  {
   "cell_type": "markdown",
   "id": "5ab97f85",
   "metadata": {},
   "source": [
    "## **1. Listen**\n",
    "\n",
    "Listen sind geordnete, veränderbare Sammlungen, die Elemente unterschiedlicher Datentypen enthalten können. Sie werden durch eckige Klammern [] definiert. Listen sind die vielseitigsten Datenstrukturen in Python.\n",
    "\n",
    "Eigenschaft\t| Beschreibung\n",
    "------------|-------------\n",
    "Geordnet\t| Elemente haben einen Index (beginnend bei 0)\n",
    "Veränderbar (Mutable)\t| Elemente können hinzugefügt, entfernt oder geändert werden.\n",
    "Duplikate\t| sind erlaubt\n",
    "\n",
    "### **Methoden und Anwendungen**\n",
    "\n",
    "Methode/Syntax\t| Anwendung\n",
    "----------------|----------\n",
    "liste[index]\t| Zugriff auf ein Element\n",
    "liste.append(x)\t| Fügt x am Ende hinzu\n",
    "liste.insert(i, x)\t| Fügt x an Index i ein\n",
    "liste.remove(x)\t| Entfernt das erste Vorkommen von x\n",
    "liste.pop(i)\t| Entfernt und gibt das Element an Index i zurück (Standard: letztes)\n",
    "len(liste)\t| Liefert die Anzahl der Elemente\n",
    "liste.sort() oder sorted(liste) | Sortiert die Liste\n",
    "\n",
    "\n",
    "#### 📝 **Aufgabe: Listen-Manager**\n",
    "\n",
    "1. Erstelle eine Liste aufgaben mit den Elementen: \"Einkaufen\", \"Kochen\", \"Lernen\".\n",
    "\n",
    "2. Füge \"Sport\" am Ende der Liste hinzu.\n",
    "\n",
    "3. Füge \"Aufräumen\" an der zweiten Position ein.\n",
    "\n",
    "4. Entferne das Element \"Kochen\".\n",
    "\n",
    "5. Gebe die endgültige Liste aus."
   ]
  },
  {
   "cell_type": "code",
   "execution_count": null,
   "id": "bf24bf4d",
   "metadata": {},
   "outputs": [],
   "source": [
    "# 1. Liste erstellen\n",
    "aufgaben = [\"Einkaufen\", \"Kochen\", \"Lernen\"]\n",
    "print(f\"Startliste: {aufgaben}\")\n",
    "\n",
    "# 2. 'Sport' am Ende hinzufügen\n",
    "aufgaben.append(\"Sport\")\n",
    "\n",
    "# 3. 'Aufräumen' an Index 1 einfügen\n",
    "aufgaben.insert(1, \"Aufräumen\")\n",
    "\n",
    "# 4. 'Kochen' entfernen\n",
    "aufgaben.remove(\"Kochen\")\n",
    "\n",
    "# 5. Endgültige Liste ausgeben\n",
    "print(f\"Endergebnis: {aufgaben}\")"
   ]
  },
  {
   "cell_type": "markdown",
   "id": "afde3f40",
   "metadata": {},
   "source": [
    "## **2. Dictionaries**\n",
    "\n",
    "Dictionaries sind ungeordnete, veränderbare Sammlungen, die Daten als Schlüssel-Wert-Paare speichern. Sie werden durch geschweifte Klammern {} und Doppelpunkte : zur Trennung von Schlüssel und Wert definiert. Dictionaries bieten extrem schnelle Zugriffszeiten.\n",
    "\n",
    "Eigenschaft\t| Beschreibung\n",
    "------------|-------------\n",
    "Ungeordnet (bis Python 3.7) |\tKeine feste Index-Position (ab 3.7: Einfügereihenfolge beibehalten).\n",
    "Veränderbar (Mutable)\t| Schlüssel-Wert-Paare können hinzugefügt, entfernt oder geändert werden.\n",
    "Schlüssel\t| Müssen eindeutig und unveränderbar (immutable) sein (z.B. Strings, Zahlen, Tupel).\n",
    "\n",
    "### **Methoden und Anwendungen**\n",
    "\n",
    "Methode/Syntax\t| Anwendung\n",
    "----------------|----------\n",
    "dict['key']\t| Zugriff auf den Wert über den Schlüssel.\n",
    "dict.get('key', default)\t| Sicherer Zugriff; gibt default zurück, falls Schlüssel nicht existiert.\n",
    "dict['new_key'] = value\t| Fügt neues Paar hinzu oder aktualisiert einen bestehenden Wert.\n",
    "dict.keys()\t| Liefert eine Ansicht aller Schlüssel.\n",
    "dict.values()\t | Liefert eine Ansicht aller Werte.\n",
    "dict.items()\t| Liefert eine Ansicht aller Schlüssel-Wert-Paare (als Tupel).\n",
    "dict.pop('key')\t| Entfernt das Paar mit dem Schlüssel und gibt den Wert zurück.\n",
    "\n",
    "#### **Aufgabe: Lagerverwaltung**\n",
    "\n",
    "1. Erstelle ein Dictionary lager mit: {\"Äpfel\": 50, \"Bananen\": 25, \"Orangen\": 30}.\n",
    "\n",
    "2. Der Bestand an Äpfeln erhöht sich um 10. Aktualisiere den Wert.\n",
    "\n",
    "3. Füge ein neues Produkt hinzu: \"Birnen\" mit dem Bestand 40.\n",
    "\n",
    "4. Lösche die \"Bananen\" aus dem Lager, da sie ausverkauft sind.\n",
    "\n",
    "5. Gebe nur die Namen aller Produkte aus."
   ]
  },
  {
   "cell_type": "code",
   "execution_count": 1,
   "id": "5f4145a6",
   "metadata": {},
   "outputs": [
    {
     "name": "stdout",
     "output_type": "stream",
     "text": [
      "Startbestand: {'Äpfel': 50, 'Bananen': 25, 'Orangen': 30}\n",
      "\n",
      "Aktueller Bestand: {'Äpfel': 60, 'Orangen': 30, 'Birnen': 40}\n",
      "Produktnamen: ['Äpfel', 'Orangen', 'Birnen']\n"
     ]
    }
   ],
   "source": [
    "# 1. Dictionary erstellen\n",
    "lager = {\"Äpfel\": 50, \"Bananen\": 25, \"Orangen\": 30}\n",
    "print(f\"Startbestand: {lager}\")\n",
    "\n",
    "# 2. Äpfel aktualisieren (50 + 10)\n",
    "lager[\"Äpfel\"] = lager[\"Äpfel\"] + 10\n",
    "\n",
    "# 3. 'Birnen' hinzufügen\n",
    "lager[\"Birnen\"] = 40\n",
    "\n",
    "# 4. 'Bananen' löschen\n",
    "del lager[\"Bananen\"]\n",
    "\n",
    "# 5. Nur die Produktnamen ausgeben\n",
    "print(f\"\\nAktueller Bestand: {lager}\")\n",
    "print(f\"Produktnamen: {list(lager.keys())}\")"
   ]
  },
  {
   "cell_type": "markdown",
   "id": "e83cbdc4",
   "metadata": {},
   "source": [
    "## **3. Sets**\n",
    "\n",
    "Sets sind ungeordnete, veränderbare Sammlungen eindeutiger Elemente. Sie werden oft verwendet, um Duplikate zu entfernen oder mathematische Mengenoperationen (Vereinigung, Schnittmenge etc.) durchzuführen. Sie werden mit geschweiften Klammern {} oder dem Konstruktor set() erstellt.\n",
    "\n",
    "Eigenschaft\t| Beschreibung\n",
    "------------|-------------\n",
    "Ungeordnet\t| Keine Indizierung\n",
    "Veränderbar (Mutable)\t| Elemente können hinzugefügt oder entfernt werden\n",
    "Duplikate\t| Nicht erlaubt (automatische Entfernung)\n",
    "\n",
    "### **Methoden und Anwendungen\n",
    "\n",
    "Methode/Syntax\t| Anwendung\n",
    "----------------|----------\n",
    "set.add(x)\t| Fügt ein einzelnes Element hinzu.\n",
    "set.remove(x)\t| Entfernt Element x (löst Fehler aus, wenn nicht vorhanden).\n",
    "set1.union(set2) | Kombiniert zwei Sets.\n",
    "set1.intersection(set2) (&)\t| Schnittmenge beider Mengen.\n",
    "set1.difference(set2) (-)\t| Elemente in set1, die nicht in set2 sind.\n",
    "x in set\t| Prüft, ob x in der Menge enthalten ist (sehr schnell).\n",
    "\n",
    "#### **Aufgaben**\n",
    "\n",
    "1. Erstelle eine Liste daten mit Duplikaten: [1, 2, 2, 3, 4, 4, 5, 5].\n",
    "\n",
    "2. Konvertiere die Liste in ein Set eindeutige_zahlen, um Duplikate zu entfernen. Gebe das Set aus.\n",
    "\n",
    "3. Erstelle ein zweites Set primzahlen = {2, 3, 5, 7, 11}.\n",
    "\n",
    "4. Finde die Schnittmenge von eindeutige_zahlen und primzahlen."
   ]
  },
  {
   "cell_type": "code",
   "execution_count": 2,
   "id": "18cf0708",
   "metadata": {},
   "outputs": [
    {
     "name": "stdout",
     "output_type": "stream",
     "text": [
      "Eindeutige Zahlen: {1, 2, 3, 4, 5, 6}\n",
      "Primzahlen: {2, 3, 5, 7, 11}\n",
      "Schnittmenge: {2, 3, 5}\n"
     ]
    }
   ],
   "source": [
    "# 1. Liste mit Duplikaten\n",
    "daten = [1, 2, 2, 3, 4, 4, 5, 5, 6]\n",
    "\n",
    "# 2. Konvertieren, um Duplikate zu entfernen\n",
    "eindeutige_zahlen = set(daten)\n",
    "print(f\"Eindeutige Zahlen: {eindeutige_zahlen}\")\n",
    "\n",
    "# 3. Zweites Set\n",
    "primzahlen = {2, 3, 5, 7, 11}\n",
    "\n",
    "# 4. Schnittmenge (Elemente, die in beiden Sets vorkommen)\n",
    "schnittmenge = eindeutige_zahlen.intersection(primzahlen)\n",
    "# Alternative Schreibweise: schnittmenge = eindeutige_zahlen & primzahlen\n",
    "\n",
    "print(f\"Primzahlen: {primzahlen}\")\n",
    "print(f\"Schnittmenge: {schnittmenge}\")"
   ]
  }
 ],
 "metadata": {
  "kernelspec": {
   "display_name": "base",
   "language": "python",
   "name": "python3"
  },
  "language_info": {
   "codemirror_mode": {
    "name": "ipython",
    "version": 3
   },
   "file_extension": ".py",
   "mimetype": "text/x-python",
   "name": "python",
   "nbconvert_exporter": "python",
   "pygments_lexer": "ipython3",
   "version": "3.12.4"
  }
 },
 "nbformat": 4,
 "nbformat_minor": 5
}
