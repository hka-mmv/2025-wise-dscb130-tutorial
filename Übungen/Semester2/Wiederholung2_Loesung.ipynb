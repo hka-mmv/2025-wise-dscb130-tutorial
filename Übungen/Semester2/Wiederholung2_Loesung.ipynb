{
 "cells": [
  {
   "cell_type": "markdown",
   "id": "baa114b7",
   "metadata": {},
   "source": [
    "# **Python Wiederholungen für das 2. Semester**"
   ]
  },
  {
   "cell_type": "markdown",
   "id": "828843aa",
   "metadata": {},
   "source": [
    "## **1. Rekursion**\n",
    "\n",
    "Rekursion ist eine Methode, bei der die Lösung eines Problems von den Lösungen kleinerer Instanzen desselben Problems abhängt. In der Programmierung bedeutet dies, dass eine Funktion sich selbst aufruft.\n",
    "\n",
    "### **1.1 Grundlagen der Rekursion**\n",
    "\n",
    "Jede korrekte rekursive Funktion benötigt zwei essenzielle Bestandteile:\n",
    "\n",
    "1. Der Basisfall (Base Case): Die Bedingung, unter der die Funktion nicht mehr sich selbst aufruft. Dies ist der Endpunkt der Rekursion und verhindert eine Endlosschleife (einen sogenannten Stack Overflow).\n",
    "\n",
    "2. Der Rekursive Fall (Recursive Case): Der Teil, in dem die Funktion das Problem verkleinert und sich selbst mit diesem kleineren Problem aufruft.\n",
    "\n",
    "### **1.2 Beispiel: Die Fakultätsfunktion**\n",
    "\n",
    "Die Fakultät einer nicht-negativen ganzen Zahl n (geschrieben als n!) ist das Produkt aller positiven ganzen Zahlen kleiner oder gleich n.\n",
    "\n",
    "    n! = n × (n − 1) × (n − 2) × ⋯ × 1\n",
    "\n",
    "Wir können dies rekursiv definieren:\n",
    "\n",
    "    n! = n × (n − 1)! für n > 1\n",
    "    1! = 1\n",
    "    0! = 1 (Basisfälle)\n"
   ]
  },
  {
   "cell_type": "code",
   "execution_count": null,
   "id": "bfb3c2d7",
   "metadata": {},
   "outputs": [],
   "source": [
    "def fakultät_rekursiv(n):\n",
    "    \"\"\"\n",
    "    Berechnet die Fakultät einer Zahl n rekursiv.\n",
    "    \"\"\"\n",
    "    # Basisfall\n",
    "    if n == 0 or n == 1:\n",
    "        return 1\n",
    "    # Rekursiver Fall\n",
    "    else:\n",
    "        # ruft sich selbst mit einem kleineren Problem auf (n-1)\n",
    "        return n * fakultät_rekursiv(n - 1)\n",
    "\n",
    "# Testen der Funktion\n",
    "print(f\"Fakultät von 5: {fakultät_rekursiv(5)}\") # Erwartet: 120\n",
    "print(f\"Fakultät von 0: {fakultät_rekursiv(0)}\") # Erwartet: 1"
   ]
  },
  {
   "cell_type": "markdown",
   "id": "203d4f98",
   "metadata": {},
   "source": [
    "**📝 Aufgabe: Summe rekursiv berechnen**\n",
    "\n",
    "Schreibe eine rekursive Funktion summe_bis_n(n), die die Summe aller ganzen Zahlen von 1 bis n berechnet.\n",
    "\n",
    "- Beispiel: summe_bis_n(4) soll 4+3+2+1=10 ergeben.\n",
    "\n",
    "- Basisfall: Was ist die Summe, wenn n=1?\n",
    "\n",
    "- Rekursiver Fall: Wie kannst du das Problem von n auf n−1 reduzieren?"
   ]
  },
  {
   "cell_type": "code",
   "execution_count": 5,
   "id": "58b87423",
   "metadata": {},
   "outputs": [
    {
     "name": "stdout",
     "output_type": "stream",
     "text": [
      "Summe bis 4: 10\n",
      "Summe bis 10: 55\n"
     ]
    }
   ],
   "source": [
    "def summe_bis_n(n):\n",
    "    if n == 1:\n",
    "        return 1\n",
    "    else:\n",
    "        return n + summe_bis_n(n - 1)\n",
    "\n",
    "# Test\n",
    "print(f\"Summe bis 4: {summe_bis_n(4)}\")\n",
    "print(f\"Summe bis 10: {summe_bis_n(10)}\")"
   ]
  },
  {
   "cell_type": "markdown",
   "id": "12ded08d",
   "metadata": {},
   "source": [
    "## **2. Sortieralgorithmen**\n",
    "\n",
    "Sortieralgorithmen sind Algorithmen, die eine Liste von Elementen in eine bestimmte Reihenfolge bringen (z.B. aufsteigend oder absteigend). Sie sind grundlegend für die Effizienz vieler anderer Algorithmen und Datenbankoperationen.\n",
    "\n",
    "### **2.1 Beispiel: Bubble Sort**\n",
    "\n",
    "Bubble Sort ist ein einfacher, aber ineffizienter Vergleichssortieralgorithmus. Er arbeitet, indem er wiederholt benachbarte Elemente durchläuft, sie vergleicht und vertauscht, wenn sie in der falschen Reihenfolge sind. Die größten Elemente \"blubbern\" dabei langsam an das Ende der Liste.\n",
    "\n",
    "- Animation: https://www.youtube.com/watch?v=Cq7SMsQBEUw&list=RDCq7SMsQBEUw&start_radio=1"
   ]
  },
  {
   "cell_type": "code",
   "execution_count": 2,
   "id": "0847fabb",
   "metadata": {},
   "outputs": [
    {
     "name": "stdout",
     "output_type": "stream",
     "text": [
      "Unsortiert: [64, 34, 25, 12, 22, 11, 90]\n",
      "Bubble Sort: [11, 12, 22, 25, 34, 64, 90]\n"
     ]
    }
   ],
   "source": [
    "def bubble_sort(liste):\n",
    "    \"\"\"\n",
    "    Sortiert eine Liste mithilfe des Bubble Sort Algorithmus.\n",
    "    \"\"\"\n",
    "    n = len(liste)\n",
    "    # Durchlaufe alle Elemente der Liste\n",
    "    for i in range(n):\n",
    "        # Letzte i Elemente sind bereits an ihrer korrekten Position\n",
    "        for j in range(0, n - i - 1):\n",
    "            \n",
    "            # Vergleiche das aktuelle Element mit dem nächsten\n",
    "            if liste[j] > liste[j + 1]:\n",
    "                # Tausche, wenn das aktuelle Element größer ist\n",
    "                liste[j], liste[j + 1] = liste[j + 1], liste[j]\n",
    "    return liste\n",
    "\n",
    "# Testen des Algorithmus\n",
    "unsortierte_liste = [64, 34, 25, 12, 22, 11, 90]\n",
    "print(f\"Unsortiert: {unsortierte_liste}\")\n",
    "sortierte_liste = bubble_sort(unsortierte_liste.copy()) # .copy() um die Original-Liste zu bewahren\n",
    "print(f\"Bubble Sort: {sortierte_liste}\")"
   ]
  },
  {
   "cell_type": "markdown",
   "id": "b0daf720",
   "metadata": {},
   "source": [
    "### **2.2 Beispiel: Merge Sort**\n",
    "\n",
    "Merge Sort ist ein effizienter, rekursiver Sortieralgorithmus, der dem Divide-and-Conquer-Prinzip (Teile-und-Herrsche) folgt.\n",
    "\n",
    "1. **Teilen (Divide)**: Die unsortierte Liste wird in n Unterlisten aufgeteilt, wobei jede Unterliste nur ein Element enthält.\n",
    "\n",
    "2. **Herrschen (Conquer)**: Rekursives Sortieren der Unterlisten. (Ein Element ist bereits sortiert).\n",
    "\n",
    "3. **Zusammenfügen (Combine/Merge)**: Die Unterlisten werden wiederholt zusammengeführt (gemergt), um neue sortierte Unterlisten zu erstellen, bis nur noch eine sortierte Liste übrig ist.\n",
    "\n",
    "- Animation: https://www.youtube.com/watch?v=ZRPoEKHXTJg"
   ]
  },
  {
   "cell_type": "code",
   "execution_count": 3,
   "id": "c4f92b31",
   "metadata": {},
   "outputs": [
    {
     "name": "stdout",
     "output_type": "stream",
     "text": [
      "Unsortiert: [15, 6, 18, 2, 9, 3]\n",
      "Merge Sort: [2, 3, 6, 9, 15, 18]\n"
     ]
    }
   ],
   "source": [
    "def merge_sort(liste):\n",
    "    \"\"\"\n",
    "    Sortiert eine Liste mithilfe des rekursiven Merge Sort Algorithmus.\n",
    "    \"\"\"\n",
    "    if len(liste) > 1:\n",
    "        mitte = len(liste) // 2\n",
    "        \n",
    "        # Teilen (Divide)\n",
    "        linke_hälfte = liste[:mitte]\n",
    "        rechte_hälfte = liste[mitte:]\n",
    "        \n",
    "        # Rekursiver Aufruf (Conquer)\n",
    "        merge_sort(linke_hälfte)\n",
    "        merge_sort(rechte_hälfte)\n",
    "        \n",
    "        # Zusammenführen (Merge)\n",
    "        i = j = k = 0\n",
    "        \n",
    "        # Kopiere Daten in temp-Listen linke_hälfte und rechte_hälfte\n",
    "        while i < len(linke_hälfte) and j < len(rechte_hälfte):\n",
    "            if linke_hälfte[i] <= rechte_hälfte[j]:\n",
    "                liste[k] = linke_hälfte[i]\n",
    "                i += 1\n",
    "            else:\n",
    "                liste[k] = rechte_hälfte[j]\n",
    "                j += 1\n",
    "            k += 1\n",
    "            \n",
    "        # Überprüfe, ob noch Elemente übrig sind\n",
    "        while i < len(linke_hälfte):\n",
    "            liste[k] = linke_hälfte[i]\n",
    "            i += 1\n",
    "            k += 1\n",
    "            \n",
    "        while j < len(rechte_hälfte):\n",
    "            liste[k] = rechte_hälfte[j]\n",
    "            j += 1\n",
    "            k += 1\n",
    "            \n",
    "    return liste\n",
    "\n",
    "# Testen des Algorithmus\n",
    "unsortierte_liste_2 = [15, 6, 18, 2, 9, 3]\n",
    "print(f\"Unsortiert: {unsortierte_liste_2}\")\n",
    "sortierte_liste_2 = merge_sort(unsortierte_liste_2) \n",
    "print(f\"Merge Sort: {sortierte_liste_2}\")"
   ]
  },
  {
   "cell_type": "markdown",
   "id": "56f95b25",
   "metadata": {},
   "source": [
    "📝 **Aufgabe: Quicksort implementieren (Rekursion & Sortierung)**\n",
    "\n",
    "Quicksort ist ein weiterer effizienter, rekursiver Sortieralgorithmus, der ebenfalls auf dem Divide-and-Conquer-Prinzip basiert.\n",
    "\n",
    "1. Wähle ein Pivot-Element (z.B. das erste Element).\n",
    "\n",
    "2. Partitioniere die Liste in drei Teile: Elemente kleiner als das Pivot, das Pivot selbst und Elemente größer als das Pivot.\n",
    "\n",
    "3. Rufe quicksort rekursiv auf die kleineren und größeren Listen auf.\n",
    "\n",
    "4. Füge die Ergebnisse zusammen.\n",
    "\n",
    "Implementiere die Funktion quicksort(liste).\n",
    "\n",
    "- Basisfall: Eine Liste mit 0 oder 1 Element ist bereits sortiert.\n",
    "\n",
    "- Animation: https://www.youtube.com/watch?v=8hEyhs3OV1w\n",
    "\n",
    "- Erklärvideo: https://www.youtube.com/watch?v=aXXWXz5rF64"
   ]
  },
  {
   "cell_type": "code",
   "execution_count": null,
   "id": "7b4ec15a",
   "metadata": {},
   "outputs": [
    {
     "name": "stdout",
     "output_type": "stream",
     "text": [
      "Quicksort: [0, 1, 2, 3, 7, 8, 10]\n"
     ]
    }
   ],
   "source": [
    "def quicksort(liste):\n",
    "    if len(liste) <= 1:\n",
    "        return liste\n",
    "    \n",
    "    pivot = liste[0]\n",
    "    kleiner = [x for x in liste[1:] if x < pivot]\n",
    "    gleich = [x for x in liste if x == pivot]\n",
    "    größer = [x for x in liste[1:] if x > pivot]\n",
    "    \n",
    "    # Rekursion und Zusammenfügen\n",
    "    return quicksort(kleiner) + gleich + quicksort(größer)\n",
    "\n",
    "# Test\n",
    "quicksort_liste = [8, 3, 1, 7, 0, 10, 2]\n",
    "print(f\"Quicksort: {quicksort(quicksort_liste)}\")"
   ]
  }
 ],
 "metadata": {
  "kernelspec": {
   "display_name": "base",
   "language": "python",
   "name": "python3"
  },
  "language_info": {
   "codemirror_mode": {
    "name": "ipython",
    "version": 3
   },
   "file_extension": ".py",
   "mimetype": "text/x-python",
   "name": "python",
   "nbconvert_exporter": "python",
   "pygments_lexer": "ipython3",
   "version": "3.12.4"
  }
 },
 "nbformat": 4,
 "nbformat_minor": 5
}
