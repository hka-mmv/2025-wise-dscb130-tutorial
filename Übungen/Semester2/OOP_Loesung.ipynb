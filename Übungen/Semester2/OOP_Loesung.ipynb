{
 "cells": [
  {
   "cell_type": "code",
   "execution_count": 1,
   "id": "4866c031",
   "metadata": {},
   "outputs": [
    {
     "name": "stdout",
     "output_type": "stream",
     "text": [
      "Fläche: 50\n",
      "Umfang: 30\n"
     ]
    }
   ],
   "source": [
    "# Lösungsvorschlag zu Aufgabe 1\n",
    "\n",
    "class Rechteck:\n",
    "    def __init__(self, breite, hoehe):\n",
    "        self.breite = breite\n",
    "        self.hoehe = hoehe\n",
    "\n",
    "    def flaeche_berechnen(self):\n",
    "        return self.breite * self.hoehe\n",
    "\n",
    "    def umfang_berechnen(self):\n",
    "        return 2 * (self.breite + self.hoehe)\n",
    "\n",
    "mein_rechteck = Rechteck(10, 5)\n",
    "print(f\"Fläche: {mein_rechteck.flaeche_berechnen()}\")\n",
    "print(f\"Umfang: {mein_rechteck.umfang_berechnen()}\")"
   ]
  },
  {
   "cell_type": "code",
   "execution_count": 2,
   "id": "9f1ea63e",
   "metadata": {},
   "outputs": [
    {
     "name": "stdout",
     "output_type": "stream",
     "text": [
      "Geschwindigkeit erhöht auf 50 km/h.\n",
      "Auto: BMW, Türen: 4, Geschwindigkeit: 50 km/h\n"
     ]
    }
   ],
   "source": [
    "# Lösungsvorschlag zu Aufgabe 2\n",
    "\n",
    "class Fahrzeug:\n",
    "    def __init__(self, marke, geschwindigkeit=0):\n",
    "        self.marke = marke\n",
    "        self.geschwindigkeit = geschwindigkeit\n",
    "\n",
    "    def beschleunigen(self, wert):\n",
    "        self.geschwindigkeit += wert\n",
    "        print(f\"Geschwindigkeit erhöht auf {self.geschwindigkeit} km/h.\")\n",
    "\n",
    "    def daten_anzeigen(self):\n",
    "        print(f\"Fahrzeug: {self.marke}, Geschwindigkeit: {self.geschwindigkeit} km/h\")\n",
    "\n",
    "class Auto(Fahrzeug):\n",
    "    def __init__(self, marke, anzahl_tueren):\n",
    "        # Aufruf des Konstruktors der Basisklasse\n",
    "        super().__init__(marke)\n",
    "        self.anzahl_tueren = anzahl_tueren\n",
    "\n",
    "    # Überschreiben der Methode (Polymorphie)\n",
    "    def daten_anzeigen(self):\n",
    "        print(f\"Auto: {self.marke}, Türen: {self.anzahl_tueren}, Geschwindigkeit: {self.geschwindigkeit} km/h\")\n",
    "\n",
    "mein_auto = Auto(\"BMW\", 4)\n",
    "mein_auto.beschleunigen(50)\n",
    "mein_auto.daten_anzeigen()"
   ]
  },
  {
   "cell_type": "code",
   "execution_count": 3,
   "id": "73be9edc",
   "metadata": {},
   "outputs": [
    {
     "name": "stdout",
     "output_type": "stream",
     "text": [
      "--- Test-Szenario ---\n",
      "Titel: Der Herr der Ringe\n",
      "Autor: J.R.R. Tolkien\n",
      "Buch: Der Herr der Ringe von J.R.R. Tolkien - Status: Verfügbar\n",
      "\n",
      "Erwarteter Fehler beim direkten Zugriff auf __titel: 'Buch' object has no attribute '__titel'\n",
      "\n",
      "--- Ausleihvorgänge ---\n",
      "'Der Herr der Ringe' wurde erfolgreich ausgeliehen.\n",
      "Fehler: 'Der Herr der Ringe' ist bereits ausgeliehen.\n",
      "Buch: Der Herr der Ringe von J.R.R. Tolkien - Status: Ausgeliehen\n",
      "\n",
      "--- Rückgabe ---\n",
      "'Der Herr der Ringe' wurde erfolgreich zurückgegeben.\n",
      "Buch: Der Herr der Ringe von J.R.R. Tolkien - Status: Verfügbar\n"
     ]
    }
   ],
   "source": [
    "# Lösungsvorschlag zu Aufgabe 3\n",
    "\n",
    "class Medium:\n",
    "    def __init__(self, titel):\n",
    "        # Private Attribute\n",
    "        self.__titel = titel\n",
    "        self.__ausgeliehen = False\n",
    "\n",
    "    @property\n",
    "    def titel(self):\n",
    "        \"\"\"Getter für das private Attribut __titel.\"\"\"\n",
    "        return self.__titel\n",
    "\n",
    "    @property\n",
    "    def ist_ausgeliehen(self):\n",
    "        \"\"\"Getter für den Ausleihstatus.\"\"\"\n",
    "        return self.__ausgeliehen\n",
    "\n",
    "    def ausleihen(self):\n",
    "        if not self.__ausgeliehen:\n",
    "            self.__ausgeliehen = True\n",
    "            print(f\"'{self.__titel}' wurde erfolgreich ausgeliehen.\")\n",
    "        else:\n",
    "            print(f\"Fehler: '{self.__titel}' ist bereits ausgeliehen.\")\n",
    "\n",
    "    def zurueckgeben(self):\n",
    "        if self.__ausgeliehen:\n",
    "            self.__ausgeliehen = False\n",
    "            print(f\"'{self.__titel}' wurde erfolgreich zurückgegeben.\")\n",
    "        else:\n",
    "            print(f\"Fehler: '{self.__titel}' war nicht ausgeliehen.\")\n",
    "\n",
    "class Buch(Medium):\n",
    "    def __init__(self, titel, autor):\n",
    "        # Aufruf des Basis-Konstruktors\n",
    "        super().__init__(titel)\n",
    "        # Zusätzliches Attribut in der Unterklasse\n",
    "        self.autor = autor\n",
    "\n",
    "    # Polymorphie: Zusätzliche Information bei der Anzeige hinzufügen\n",
    "    def __str__(self):\n",
    "        status = \"Ausgeliehen\" if self.ist_ausgeliehen else \"Verfügbar\"\n",
    "        return f\"Buch: {self.titel} von {self.autor} - Status: {status}\"\n",
    "\n",
    "# Test-Szenario\n",
    "print(\"--- Test-Szenario ---\")\n",
    "mein_buch = Buch(\"Der Herr der Ringe\", \"J.R.R. Tolkien\")\n",
    "\n",
    "# 1. Zugriff über Property und Statusprüfung\n",
    "print(f\"Titel: {mein_buch.titel}\")\n",
    "print(f\"Autor: {mein_buch.autor}\")\n",
    "print(mein_buch)\n",
    "\n",
    "# 2. Versuch des direkten Zugriffs (führt zu einem AttributeError)\n",
    "try:\n",
    "    print(mein_buch.__titel)\n",
    "except AttributeError as e:\n",
    "    print(f\"\\nErwarteter Fehler beim direkten Zugriff auf __titel: {e}\")\n",
    "\n",
    "# 3. Ausleihvorgänge\n",
    "print(\"\\n--- Ausleihvorgänge ---\")\n",
    "mein_buch.ausleihen()\n",
    "mein_buch.ausleihen() # Versuch, zweimal auszuleihen\n",
    "print(mein_buch)\n",
    "\n",
    "# 4. Rückgabe\n",
    "print(\"\\n--- Rückgabe ---\")\n",
    "mein_buch.zurueckgeben()\n",
    "print(mein_buch)"
   ]
  }
 ],
 "metadata": {
  "kernelspec": {
   "display_name": "base",
   "language": "python",
   "name": "python3"
  },
  "language_info": {
   "codemirror_mode": {
    "name": "ipython",
    "version": 3
   },
   "file_extension": ".py",
   "mimetype": "text/x-python",
   "name": "python",
   "nbconvert_exporter": "python",
   "pygments_lexer": "ipython3",
   "version": "3.12.4"
  }
 },
 "nbformat": 4,
 "nbformat_minor": 5
}
