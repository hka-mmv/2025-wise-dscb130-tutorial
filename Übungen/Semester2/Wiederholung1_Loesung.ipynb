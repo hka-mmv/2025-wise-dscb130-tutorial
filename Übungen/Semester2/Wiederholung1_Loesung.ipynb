{
 "cells": [
  {
   "cell_type": "markdown",
   "id": "9d764e0f",
   "metadata": {},
   "source": [
    "# **Python Wiederholungen für das 2. Semester**"
   ]
  },
  {
   "cell_type": "markdown",
   "id": "ed00de8e",
   "metadata": {},
   "source": [
    "## **1. Variablen und Konstanten**\n",
    "\n",
    "**Aufgabe:**\n",
    "\n",
    "1. Definiere eine Variable anzahl_items mit dem Wert 150 und eine Konstante MAX_ITEMS_PRO_SEITE mit dem Wert 20 (Konstanten sind immer Uppercase)\n",
    "\n",
    "2. Gebe die Werte mit F-Strings aus\n",
    "\n",
    "3. Importiere die Math Bibliothek\n",
    "\n",
    "4. Berechne die minimale Seitenanzahl mit math.ceil(), speichere den Wert in min_seiten und gebe diesen Ebenfalls aus.\n",
    "\n",
    "(Tipp: Nutze deskriptive Namen und keine Abkürzungen wie n oder m.)"
   ]
  },
  {
   "cell_type": "code",
   "execution_count": null,
   "id": "049903fa",
   "metadata": {},
   "outputs": [],
   "source": [
    "import math\n",
    "\n",
    "# 1. Variable und Konstante definieren\n",
    "anzahl_items = 150\n",
    "MAX_ITEMS_PRO_SEITE = 20  # Best Practice: Konstanten in UPPERCASE\n",
    "\n",
    "# 2. Minimale Seitenanzahl berechnen\n",
    "# (math.ceil() stellt sicher, dass aufgerundet wird)\n",
    "min_seiten = math.ceil(anzahl_items / MAX_ITEMS_PRO_SEITE)\n",
    "\n",
    "# Ergebnis ausgeben\n",
    "print(f\"Gesamt-Items: {anzahl_items}\")\n",
    "print(f\"Items pro Seite: {MAX_ITEMS_PRO_SEITE}\")\n",
    "print(f\"Benötigte Seiten (minimal): {min_seiten}\")\n",
    "\n",
    "# Erwartetes Ergebnis: 8"
   ]
  },
  {
   "cell_type": "markdown",
   "id": "23914b00",
   "metadata": {},
   "source": [
    "## **2. Listen**\n",
    "\n",
    "**Aufgabe:**\n",
    "\n",
    "Gegeben ist eine Liste von Namen. Erstelle eine Funktion begrüße_alle, die jeden Namen in der Liste mit einem F-String begrüßt."
   ]
  },
  {
   "cell_type": "code",
   "execution_count": null,
   "id": "9774d3c1",
   "metadata": {},
   "outputs": [],
   "source": [
    "namen = [\"Lin\", \"Daria\", \"Aliena\", \"Fabian\", \"Michael\", \"Waldemar\", \"Daniel\", \"Patrick\"]\n",
    "\n",
    "def begrüße_alle(namen_liste: list[str]):\n",
    "    \"\"\"Begrüßt alle Personen in der Liste mit einem F-String.\"\"\"\n",
    "    for name in namen_liste:\n",
    "        # Gute Praxis: F-Strings für einfache, lesbare String-Formatierung\n",
    "        print(f\"Hallo {name}, willkommen beim Python-Training! 👋\")\n",
    "\n",
    "begrüße_alle(namen)"
   ]
  },
  {
   "cell_type": "markdown",
   "id": "40ede382",
   "metadata": {},
   "source": [
    "## **3. Funktionen**\n",
    "Best Practices für Funktionen:\n",
    "\n",
    "Wichtig: Funktionen sollten nur **eine** klare Aufgabe erfüllen.\n",
    "\n",
    "Deskriptive Namen: Verwende Verben \n",
    "\n",
    "    z.B. berechne_summe, validiere_eingabe\n",
    "\n",
    "Type-Hinting: Nutze Type-Hints, um die erwarteten Datentypen der Argumente und des Rückgabewerts zu spezifizieren (verbessert die Lesbarkeit und Tool-Unterstützung)\n",
    "\n",
    "    z.B. berechne_gesamtpreis(einzelpreise: list, rabatt=0.0) -> float:\n",
    "\n",
    "Docstrings: Füge einen Docstring hinzu, der kurz erklärt, was die Funktion tut, welche Argumente sie erwartet und was sie zurückgibt. Der Docstring kommt direkt nach dem Funktions-Header\n",
    "\n",
    "    z.B. \"\"\"\n",
    "        Beschreibung Funktion\n",
    "\n",
    "        Args:\n",
    "            eingabe_parameter_1 (Datentyp): Was genau\n",
    "            eingabe_parameter_2 (Datentyp): Was genau, Beispielwerte\n",
    "\n",
    "        Returns:\n",
    "            Datentyp: Beschreibungs was genau\n",
    "        \"\"\"\n",
    "\n",
    "\n",
    "### **Übung 3.1: Eine einfache, dokumentierte Funktion**\n",
    "**Aufgabe:**\n",
    "\n",
    "Schreibe eine Funktion berechne_rabattierten_preis, die einen original_preis (float) und einen rabatt_prozent (float zwischen 0 und 100) entgegennimmt und den endgültigen Preis zurückgibt.\n",
    "\n",
    "Verwende Type-Hints und einen Docstring."
   ]
  },
  {
   "cell_type": "code",
   "execution_count": null,
   "id": "23b8268d",
   "metadata": {},
   "outputs": [],
   "source": [
    "def berechne_rabattierten_preis(original_preis: float, rabatt_prozent: float) -> float:\n",
    "    \"\"\"\n",
    "    Berechnet den Endpreis nach Abzug eines prozentualen Rabatts.\n",
    "\n",
    "    Args:\n",
    "        original_preis (float): Der ursprüngliche Preis.\n",
    "        rabatt_prozent (float): Der Rabatt in Prozent (z.B. 10.0 für 10%).\n",
    "\n",
    "    Returns:\n",
    "        float: Der rabattierte Endpreis.\n",
    "    \"\"\"\n",
    "    if not 0 <= rabatt_prozent <= 100:\n",
    "        raise ValueError(\"Rabatt muss zwischen 0 und 100 Prozent liegen.\")\n",
    "\n",
    "    rabattfaktor = 1 - (rabatt_prozent / 100)\n",
    "    endpreis = original_preis * rabattfaktor\n",
    "    \n",
    "    # Runde auf 2 Dezimalstellen für korrekte Währungsausgabe\n",
    "    return round(endpreis, 2)\n",
    "\n",
    "# Testen Sie die Funktion\n",
    "preis_neu = berechne_rabattierten_preis(original_preis=199.99, rabatt_prozent=25.0)\n",
    "\n",
    "# Ausgabe\n",
    "print(f\"Original: 199.99, Rabatt: 25% -> Endpreis: {preis_neu}\")\n",
    "# Erwartetes Ergebnis: 149.99\n",
    "\n",
    "# Zeigen Sie den Docstring an (z.B. mit ?funktion_name in einer neuen Zelle)\n",
    "# ?berechne_rabattierten_preis"
   ]
  },
  {
   "cell_type": "markdown",
   "id": "c6aaa586",
   "metadata": {},
   "source": [
    "### **Übung 3.2: Funktion mit Standardwert und Gültigkeitsprüfung**\n",
    "\n",
    "**Aufgabe:**\n",
    "\n",
    "Erweitere die Funktion, indem du einen Standardwert für den Rabatt festlegst. Stelle außerdem sicher, dass die Funktion nur dann ausgeführt wird, wenn der Rabatt gültig ist (raise ValueError())"
   ]
  },
  {
   "cell_type": "code",
   "execution_count": null,
   "id": "b1512775",
   "metadata": {},
   "outputs": [],
   "source": [
    "def berechne_rabattierten_preis_standard(original_preis: float, rabatt_prozent: float = 10.0) -> float:\n",
    "    \"\"\"\n",
    "    Berechnet den Endpreis nach Abzug eines prozentualen Rabatts.\n",
    "    Standardrabatt ist 10.0%.\n",
    "\n",
    "    Args:\n",
    "        original_preis (float): Der ursprüngliche Preis.\n",
    "        rabatt_prozent (float): Der Rabatt in Prozent (Standard: 10.0).\n",
    "\n",
    "    Returns:\n",
    "        float: Der rabattierte Endpreis.\n",
    "    \"\"\"\n",
    "    if not 0 <= rabatt_prozent <= 100:\n",
    "        # Hier wird eine Ausnahme ausgelöst, was eine gute Praxis ist,\n",
    "        # wenn ungültige Eingaben die weitere Logik verhindern würden.\n",
    "        raise ValueError(\"Rabatt muss zwischen 0 und 100 Prozent liegen.\")\n",
    "\n",
    "    rabattfaktor = 1 - (rabatt_prozent / 100)\n",
    "    endpreis = original_preis * rabattfaktor\n",
    "    \n",
    "    return round(endpreis, 2)\n",
    "\n",
    "# Test mit Standardrabatt\n",
    "preis_standard = berechne_rabattierten_preis_standard(original_preis=50.0)\n",
    "print(f\"Original: 50.0, Standard-Rabatt (10%) -> Endpreis: {preis_standard}\")\n",
    "# Erwartetes Ergebnis: 45.0\n",
    "\n",
    "# Test mit explizitem Rabatt\n",
    "preis_spezial = berechne_rabattierten_preis_standard(original_preis=100.0, rabatt_prozent=50.0)\n",
    "print(f\"Original: 100.0, Rabatt (50%) -> Endpreis: {preis_spezial}\")\n",
    "# Erwartetes Ergebnis: 50.0\n",
    "\n",
    "# Beispiel für Fehlerbehandlung (auskommentiert, um den weiteren Codefluss nicht zu unterbrechen)\n",
    "# preis_fehler = berechne_rabattierten_preis_standard(100.0, 150.0)"
   ]
  },
  {
   "cell_type": "markdown",
   "id": "146eb19f",
   "metadata": {},
   "source": [
    "## **4. Dictionaries**\n",
    "\n",
    "Dictionaries sind eine Schlüssel-Wert-Speicherstruktur in Python, ideal für die Darstellung strukturierter Daten (wie Objekte oder Datenbankeinträge).\n",
    "\n",
    "### **Übung 4.1: Erstellen und Zugreifen**\n",
    "\n",
    "**Aufgabe:**\n",
    "\n",
    "1. Erstelle ein Dictionary namens benutzerprofil mit folgenden Schlüssel-Wert-Paaren:\n",
    "\n",
    "    - 'name': 'Anna'\n",
    "\n",
    "    - 'alter': 28\n",
    "\n",
    "    - 'stadt': 'Berlin'\n",
    "\n",
    "2. Gib den Wert des Schlüssels 'alter' aus\n",
    "\n",
    "3. Füge einen neuen Schlüssel 'job' mit dem Wert 'Ingenieurin' hinzu\n",
    "\n",
    "4. Gib das gesamte Dictionary aus"
   ]
  },
  {
   "cell_type": "code",
   "execution_count": 2,
   "id": "6436806e",
   "metadata": {},
   "outputs": [
    {
     "name": "stdout",
     "output_type": "stream",
     "text": [
      "Anna's Alter: 28\n",
      "Aktuelles Profil: {'name': 'Anna', 'alter': 28, 'stadt': 'Berlin', 'job': 'Ingenieurin'}\n"
     ]
    }
   ],
   "source": [
    "# 1. Dictionary erstellen\n",
    "benutzerprofil = {\n",
    "    'name': 'Anna',\n",
    "    'alter': 28,\n",
    "    'stadt': 'Berlin'\n",
    "}\n",
    "\n",
    "# 2. Auf einen Wert zugreifen\n",
    "print(f\"Anna's Alter: {benutzerprofil['alter']}\")\n",
    "\n",
    "# 3. Neues Schlüssel-Wert-Paar hinzufügen\n",
    "benutzerprofil['job'] = 'Ingenieurin'\n",
    "\n",
    "# 4. Gesamtes Dictionary ausgeben\n",
    "print(\"Aktuelles Profil:\", benutzerprofil)"
   ]
  },
  {
   "cell_type": "markdown",
   "id": "d85fd786",
   "metadata": {},
   "source": [
    "### **Übung 4.2: Iteration und Existenzprüfung**\n",
    "\n",
    "**Aufgabe:**\n",
    "\n",
    "1. Prüfe, ob der Schlüssel 'email' im benutzerprofil existiert. Wenn nicht, gib eine entsprechende Meldung aus\n",
    "\n",
    "2. Iteriere über alle Schlüssel und Werte des Dictionaries und gib sie im Format \"Schlüssel: Wert\" aus\n",
    "\n",
    "(Tipp: Verwende die get()-Methode mit einem Standardwert, um einen Fehler zu vermeiden, wenn ein Schlüssel nicht existiert. Verwende die .items()-Methode für die Iteration)"
   ]
  },
  {
   "cell_type": "code",
   "execution_count": null,
   "id": "33f114da",
   "metadata": {},
   "outputs": [],
   "source": [
    "# Prüfen auf Existenz des Schlüssels 'email' (Gute Praxis: 'in'-Operator)\n",
    "if 'email' not in benutzerprofil:\n",
    "    print(\"\\nDer Schlüssel 'email' existiert nicht im Profil.\")\n",
    "\n",
    "# Verwenden von .get() (Best Practice: Vermeidet KeyError)\n",
    "email = benutzerprofil.get('email', 'Nicht angegeben')\n",
    "print(f\"E-Mail: {email}\")\n",
    "\n",
    "\n",
    "print(\"\\nAlle Schlüssel-Wert-Paare:\")\n",
    "# Iterieren über Schlüssel und Werte (Best Practice: .items())\n",
    "for schluessel, wert in benutzerprofil.items():\n",
    "    print(f\"  {schluessel}: {wert}\")"
   ]
  },
  {
   "cell_type": "markdown",
   "id": "1f92ef31",
   "metadata": {},
   "source": [
    "## **5. Dateien öffnen, Lesen und Schreiben 💾**\n",
    "\n",
    "### **Übung 5.1: In eine Datei schreiben**\n",
    "\n",
    "**Aufgabe:**\n",
    "\n",
    "1. Schreibe händisch die drei Zeilen \"Hallo Welt\", \"Das ist Zeile 2\" und \"Und die letzte Zeile\" in eine neue Datei namens beispieldaten.txt\n",
    "\n",
    "2. Verwende den with open(...)-Block und den Modus 'w' (write/schreiben, überschreibt existierende Datei) und schreibe ein Elvchen oder einen anderen kurzen Text mit mehreren Zeilen in die beispeildaten.txt Datei (Zeilenumbruch \\n)"
   ]
  },
  {
   "cell_type": "code",
   "execution_count": 1,
   "id": "3da6b8ec",
   "metadata": {},
   "outputs": [
    {
     "name": "stdout",
     "output_type": "stream",
     "text": [
      "Daten erfolgreich in 'beispieldaten.txt' geschrieben.\n"
     ]
    }
   ],
   "source": [
    "dateiname = 'beispieldaten.txt'\n",
    "daten = [\"Hallo Welt\\n\", \"Das ist Zeile 2\\n\", \"Und die letzte Zeile\\n\"]\n",
    "\n",
    "# Best Practice: 'with' block zum automatischen Schließen der Datei\n",
    "with open(dateiname, 'w', encoding='utf-8') as datei:\n",
    "    datei.writelines(daten)\n",
    "    \n",
    "print(f\"Daten erfolgreich in '{dateiname}' geschrieben.\")"
   ]
  },
  {
   "cell_type": "markdown",
   "id": "ed04a99d",
   "metadata": {},
   "source": [
    "### **Übung 5.2: Aus einer Datei lesen**\n",
    "\n",
    "**Aufgabe:**\n",
    "\n",
    "1. Lese den Inhalt der soeben erstellten Datei beispieldaten.txt mit dem Modus 'r' (read/lesen) wieder ein\n",
    "\n",
    "2. Verwende die Methode .readlines(), um den Inhalt zeilenweise als Liste zu erhalten\n",
    "\n",
    "3. Gib die Liste der gelesenen Zeilen aus."
   ]
  },
  {
   "cell_type": "code",
   "execution_count": null,
   "id": "48783ff0",
   "metadata": {},
   "outputs": [],
   "source": [
    "dateiname = 'beispieldaten.txt'\n",
    "\n",
    "# Best Practice: 'with' block zum automatischen Schließen der Datei\n",
    "# Modus 'r' ist standardmäßig gesetzt, kann aber explizit angegeben werden\n",
    "with open(dateiname, 'r', encoding='utf-8') as datei:\n",
    "    gelesene_zeilen = datei.readlines()\n",
    "\n",
    "print(\"\\nGelesene Zeilen (inkl. Zeilenumbrüche):\")\n",
    "print(gelesene_zeilen)\n",
    "\n",
    "\n",
    "# Optional: Gib die Zeilen ohne die Zeilenumbrüche aus\n",
    "print(\"\\nGelesene Zeilen (bereinigt):\")\n",
    "for zeile in gelesene_zeilen:\n",
    "    print(zeile.strip()) # .strip() entfernt Leerzeichen und Zeilenumbrüche am Anfang/Ende"
   ]
  },
  {
   "cell_type": "markdown",
   "id": "812c0b97",
   "metadata": {},
   "source": [
    "## **weitere Best Practices**\n",
    "\n",
    "Thema      | Schlechte Praxis ❌ | Gute Praxis ✅\n",
    "|----------|---------------------|-----------------|\n",
    "Bedingungen\t| if variable == True:\t| if variable: oder if variable is True:\n",
    "Listen-Iteration |\tfor i in range(len(meine_liste)):\t| for element in meine_liste:\n",
    "Index-Iteration\t| for i in range(len(l)): l[i] = ...\t| for i, element in enumerate(meine_liste):\n",
    "Strings\t| 'Hallo ' + name + '!' |\tf'Hallo {name}!' (F-Strings)\n",
    "Dateien schließen\t| f = open('data.txt', 'r'); f.close()\t| with open('data.txt', 'r') as f:"
   ]
  }
 ],
 "metadata": {
  "kernelspec": {
   "display_name": "base",
   "language": "python",
   "name": "python3"
  },
  "language_info": {
   "codemirror_mode": {
    "name": "ipython",
    "version": 3
   },
   "file_extension": ".py",
   "mimetype": "text/x-python",
   "name": "python",
   "nbconvert_exporter": "python",
   "pygments_lexer": "ipython3",
   "version": "3.12.4"
  }
 },
 "nbformat": 4,
 "nbformat_minor": 5
}
