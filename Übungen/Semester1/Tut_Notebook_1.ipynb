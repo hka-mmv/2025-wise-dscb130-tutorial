{
 "cells": [
  {
   "cell_type": "markdown",
   "id": "90c9cf75",
   "metadata": {},
   "source": [
    "### **Jupyter hat zwei Modi:** \n",
    "- **Befehlsmodus** (blaue Umrandung der Zelle, aktiv nach Esc)\n",
    "- **Bearbeitungsmodus** (grüne Umrandung der Zelle, aktiv nach Enter oder Klick in die Zelle). \n",
    "Die meisten Shortcuts funktionieren nur im Befehlsmodus.\n",
    "\n",
    "## **Tastenkürzel für Jupyter Notebook (Grundfunktionen)**\n",
    "\n",
    "Dies ist ein interaktives Lern-Notebook, um die wichtigsten Tastenkürzel in Jupyter kennenzulernen.\n"
   ]
  },
  {
   "cell_type": "markdown",
   "id": "b7d8d069",
   "metadata": {},
   "source": [
    "#### **I. Zellen ausführen und Modi wechseln**\n",
    "\n",
    "Aktion\t| Befehlsmodus (Esc)\t| Bearbeitungsmodus (Enter)\n",
    "--------|-----------------------|--------------------------\n",
    "Zelle ausführen und Fokus behalten\t| Strg + Enter\t| Strg + Enter\n",
    "Zelle ausführen und zur nächsten Zelle springen\t| Shift + Enter\t| Shift + Enter\n",
    "Zelle ausführen und neue Zelle darunter einfügen\t| Alt + Enter\t| Alt + Enter\n",
    "In den Befehlsmodus wechseln\t| (Bereits aktiv)\t| Esc\n",
    "In den Bearbeitungsmodus wechseln\t| Enter\t| (Bereits aktiv)\n"
   ]
  },
  {
   "cell_type": "markdown",
   "id": "0525d431",
   "metadata": {},
   "source": [
    "#### **II. Zellen-Manipulation (Befehlsmodus: Esc drücken)**\n",
    "\n",
    "Aktion |\tTastenkürzel (nur Befehlsmodus!)\n",
    "-------|------------------------------------\n",
    "Zelle oberhalb einfügen |\tA (für Above)\n",
    "Zelle unterhalb einfügen\t| B (für Below)\n",
    "Aktuelle Zelle löschen |\tD, D (zweimal D hintereinander)\n",
    "Löschen rückgängig machen\t| Z\n",
    "Zelltyp zu Code ändern |\tY\n",
    "Zelltyp zu Markdown ändern |\tM\n",
    "Zellen teilen (Cursor in der Zelle positionieren!)\t| Strg + Shift + -\n",
    "Ausgewählte Zellen zusammenfügen\t| Shift + M\n",
    "Tastaturkürzel-Hilfe anzeigen\t| H\n"
   ]
  },
  {
   "cell_type": "markdown",
   "id": "0e7eb28e-3a70-469a-b34e-b605c3af9908",
   "metadata": {},
   "source": [
    "##### **1. Probiere es aus! Wandele diese Zelle in eine Code-Zelle um und versuche sie auszuführen;**\n",
    "\n",
    "import time\n",
    "\n",
    "for text in [\"Starte...\", \"Lade...\", \"Fertig! Erfolgreich umgewandelt!\"]:\n",
    "    print(text)\n",
    "    time.sleep(0.7)\n"
   ]
  },
  {
   "cell_type": "code",
   "execution_count": null,
   "id": "cb52cd10-f5e1-4fa1-ba84-562bd3ac7297",
   "metadata": {},
   "outputs": [],
   "source": [
    "##### **2. Wandele diese Zelle nun in eine Markdown-Zelle um**\n",
    "\n",
    "# Überraschung!  \n",
    "**Diese Code-Zelle**  \n",
    "ist jetzt *formatiert und stilisiert.*  \n",
    "\n",
    "> So können Texte hübsch gestaltet werden.  \n",
    "> Den einfachen Syntax zu kennen, lohnt sich.\n",
    "> [Hier ein Guide.](https://www.markdownguide.org/cheat-sheet/)"
   ]
  },
  {
   "cell_type": "markdown",
   "id": "25fc38f3-2c00-45d9-9ecc-1a7871f3c350",
   "metadata": {},
   "source": [
    "##### 3. Füge nun über diesem Block deine eigene Zelle ein, der Inhalt ist egal.\n",
    "\n",
    "Und erinnere dich an die Shortcuts (mit denen du diese auch wieder löschen kannst)!"
   ]
  },
  {
   "cell_type": "markdown",
   "id": "cac3bec6",
   "metadata": {},
   "source": [
    "#### **III. Navigation und Bearbeitung (Bearbeitungsmodus: Enter drücken)**\n",
    "\n",
    "Aktion |\tTastenkürzel\n",
    "-------|----------------\n",
    "Zeilen auskommentieren/einkommentieren\t| Strg + /\n",
    "Code-Vervollständigung / Einrücken |\tTab\n",
    "Docstring/Hilfe anzeigen (nach Funktionsname) |\tShift + Tab\n",
    "Einrücken |\tStrg + ]\n",
    "Ausrücken\t| Strg + [\n",
    "Speichern |\tStrg + S\n"
   ]
  },
  {
   "cell_type": "markdown",
   "id": "6593ef1a",
   "metadata": {},
   "source": [
    "### **Code-Beispiele: Print Statements und Info-Aufrufe**\n",
    "\n",
    "Führe die folgenden Zellen mit Shift + Enter aus, um zur nächsten Zelle zu springen.\n",
    "\n",
    "#### **1. Print Statement**\n",
    "\n",
    "Verwende print(), um Text oder Variablenwerte auszugeben."
   ]
  },
  {
   "cell_type": "code",
   "execution_count": 57,
   "id": "06a6d833",
   "metadata": {},
   "outputs": [
    {
     "name": "stdout",
     "output_type": "stream",
     "text": [
      "Hallo Jupyter! Ich lerne gerade die Shortcuts.\n",
      "Die Antwort ist: 42\n"
     ]
    }
   ],
   "source": [
    "# CODE ZELLE\n",
    "print(\"Hallo Jupyter! Ich lerne gerade die Shortcuts.\")\n",
    "\n",
    "zahl = 42\n",
    "print(f\"Die Antwort ist: {zahl}\")"
   ]
  },
  {
   "cell_type": "markdown",
   "id": "d823301b",
   "metadata": {},
   "source": [
    "#### **2. Typ-Information (type())**\n",
    "\n",
    "Mit type() kannst du den Datentyp einer Variablen überprüfen."
   ]
  },
  {
   "cell_type": "code",
   "execution_count": 1,
   "id": "2f86b133",
   "metadata": {},
   "outputs": [
    {
     "name": "stdout",
     "output_type": "stream",
     "text": [
      "<class 'float'>\n",
      "<class 'str'>\n"
     ]
    }
   ],
   "source": [
    "# CODE ZELLE\n",
    "meine_variable = 3.14159\n",
    "print(type(meine_variable))\n",
    "\n",
    "text = \"Das ist ein String\"\n",
    "print(type(text))"
   ]
  },
  {
   "cell_type": "markdown",
   "id": "21e3d86e",
   "metadata": {},
   "source": [
    "#### **3. Hilfe-Funktion und Docstrings (? oder Shift + Tab)**\n",
    "\n",
    "Um schnell Informationen über eine Funktion oder ein Objekt zu erhalten, gibt es zwei Tricks:\n",
    "\n",
    "- Füge ein Fragezeichen (?) vor oder nach dem Objektnamen ein und führe die Zelle aus.\n",
    "\n",
    "- Positioniere den Cursor direkt auf dem Objektnamen und drücke Shift + Tab (im Bearbeitungsmodus)."
   ]
  },
  {
   "cell_type": "code",
   "execution_count": 2,
   "id": "d67f8357",
   "metadata": {},
   "outputs": [
    {
     "name": "stdout",
     "output_type": "stream",
     "text": [
      "\u001b[31mSignature:\u001b[39m print(*args, sep=\u001b[33m' '\u001b[39m, end=\u001b[33m'\\n'\u001b[39m, file=\u001b[38;5;28;01mNone\u001b[39;00m, flush=\u001b[38;5;28;01mFalse\u001b[39;00m)\n",
      "\u001b[31mDocstring:\u001b[39m\n",
      "Prints the values to a stream, or to sys.stdout by default.\n",
      "\n",
      "sep\n",
      "  string inserted between values, default a space.\n",
      "end\n",
      "  string appended after the last value, default a newline.\n",
      "file\n",
      "  a file-like object (stream); defaults to the current sys.stdout.\n",
      "flush\n",
      "  whether to forcibly flush the stream.\n",
      "\u001b[31mType:\u001b[39m      builtin_function_or_method"
     ]
    }
   ],
   "source": [
    "# CODE ZELLE\n",
    "# Führe diese Zelle aus (Strg + Enter oder Shift + Enter)\n",
    "?print"
   ]
  },
  {
   "cell_type": "markdown",
   "id": "0dc77947",
   "metadata": {},
   "source": [
    "#### **4. Einfache mathematische Operation**"
   ]
  },
  {
   "cell_type": "code",
   "execution_count": 3,
   "id": "905e6ba6",
   "metadata": {},
   "outputs": [
    {
     "name": "stdout",
     "output_type": "stream",
     "text": [
      "Das Ergebnis der Rechnung ist: 4.0\n"
     ]
    }
   ],
   "source": [
    "# CODE ZELLE\n",
    "ergebnis = (5 + 3) * 2 / 4\n",
    "print(f\"Das Ergebnis der Rechnung ist: {ergebnis}\")"
   ]
  }
 ],
 "metadata": {
  "kernelspec": {
   "display_name": "Python [conda env:base] *",
   "language": "python",
   "name": "conda-base-py"
  },
  "language_info": {
   "codemirror_mode": {
    "name": "ipython",
    "version": 3
   },
   "file_extension": ".py",
   "mimetype": "text/x-python",
   "name": "python",
   "nbconvert_exporter": "python",
   "pygments_lexer": "ipython3",
   "version": "3.12.7"
  }
 },
 "nbformat": 4,
 "nbformat_minor": 5
}
