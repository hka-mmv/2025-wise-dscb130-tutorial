{
 "cells": [
  {
   "cell_type": "markdown",
   "id": "9066221a",
   "metadata": {},
   "source": [
    "## **Zahlenbasen: Binär, Dezimal, Hexadezimal**"
   ]
  },
  {
   "cell_type": "markdown",
   "id": "3a3000c4",
   "metadata": {},
   "source": [
    "System | Basis | Verwendete Ziffern | Anmerkung\n",
    "-------|-------|--------------------|-----------\n",
    "Dezimal|10|0, 1, 2, 3, 4, 5, 6, 7, 8, 9|Unser alltägliches Zahlensystem\n",
    "Binär|2|0, 1|Die Basis der digitalen Elektronik (An/Aus)\n",
    "Hexadezimal|16|0-9 und A, B, C, D, E, F|Kompakte Darstellung binärer Daten. A=10, F=15"
   ]
  },
  {
   "cell_type": "markdown",
   "id": "474c133b",
   "metadata": {},
   "source": [
    "### **Umwandlungshinweise**\n",
    "\n",
    "- **Binär $\\leftrightarrow$ Dezimal:** Das Dezimalsystem basiert auf Potenzen von 10, das Binärsystem auf Potenzen von 2. \n",
    "(z.B. $1011_2 = 1 \\cdot 2^3 + 0 \\cdot 2^2 + 1 \\cdot 2^1 + 1 \\cdot 2^0 = 8 + 0 + 2 + 1 = 11_{10}$).\n",
    "\n",
    "- **Hexadezimal $\\leftrightarrow$ Binär:** Jede hexadezimale Ziffer entspricht exakt vier binären Stellen (ein Nibble). \n",
    "(z.B. $A_{16} = 1010_2$).\n",
    "\n",
    "- **Hexadezimal $\\leftrightarrow$ Dezimal:** Die Hexadezimalzahlen basieren auf Potenzen von 16. \n",
    "(z.B. $A5_{16} = (A \\cdot 16^1) + (5 \\cdot 16^0) = (10 \\cdot 16) + (5 \\cdot 1) = 160 + 5 = 165 = 160 + 5 = 165_{10}$)"
   ]
  },
  {
   "cell_type": "markdown",
   "id": "cbfb082e",
   "metadata": {},
   "source": [
    "### **📝 Aufgaben und Übungen**\n",
    "\n",
    "Löse die folgenden Umwandlungsaufgaben. Versuche zunächst, sie selbst zu lösen, bevor du die Lösungen überprüfst (z.B. durch eine Python-Funktion).\n",
    "\n",
    "**Aufgabe 1: Dezimal $\\rightarrow$ Binär**\n",
    "\n",
    "Wandle die folgenden Dezimalzahlen in Binärzahlen um:"
   ]
  },
  {
   "cell_type": "code",
   "execution_count": null,
   "id": "7c315d70",
   "metadata": {},
   "outputs": [],
   "source": [
    "# Dezimalzahl\n",
    "dez_a = 42\n",
    "\n",
    "# Deine Lösung (Binär):\n",
    "#"
   ]
  },
  {
   "cell_type": "code",
   "execution_count": null,
   "id": "79eec837",
   "metadata": {},
   "outputs": [],
   "source": [
    "# Dezimalzahl\n",
    "dez_b = 201\n",
    "\n",
    "# Deine Lösung (Binär):\n",
    "#"
   ]
  },
  {
   "cell_type": "markdown",
   "id": "9ce7df61",
   "metadata": {},
   "source": [
    "**Aufgabe 2: Binär $\\rightarrow$ Dezimal**\n",
    "\n",
    "Wandle die folgenden Binärzahlen in Dezimalzahlen um:"
   ]
  },
  {
   "cell_type": "code",
   "execution_count": null,
   "id": "3aec8f1c",
   "metadata": {},
   "outputs": [],
   "source": [
    "# Binärzahl\n",
    "bin_a = \"110101\"\n",
    "\n",
    "# Deine Lösung (Dezimal):\n",
    "#"
   ]
  },
  {
   "cell_type": "code",
   "execution_count": null,
   "id": "9e2d74a8",
   "metadata": {},
   "outputs": [],
   "source": [
    "# Binärzahl\n",
    "bin_b = \"10001111\"\n",
    "\n",
    "# Deine Lösung (Dezimal):\n",
    "#"
   ]
  },
  {
   "cell_type": "markdown",
   "id": "a1a41f84",
   "metadata": {},
   "source": [
    "### **Aufgabe 3: Binär $\\rightarrow$ Hexadezimal**\n",
    "\n",
    "Wandle die folgenden Binärzahlen in Hexadezimalzahlen um:"
   ]
  },
  {
   "cell_type": "code",
   "execution_count": null,
   "id": "fc889112",
   "metadata": {},
   "outputs": [],
   "source": [
    "# Binärzahl\n",
    "bin_c = \"11100101\"\n",
    "\n",
    "# Deine Lösung (Hexadezimal):\n",
    "#"
   ]
  },
  {
   "cell_type": "code",
   "execution_count": null,
   "id": "0114baf3",
   "metadata": {},
   "outputs": [],
   "source": [
    "# Binärzahl\n",
    "bin_d = \"110111100010\"\n",
    "\n",
    "# Deine Lösung (Hexadezimal):\n",
    "#"
   ]
  },
  {
   "cell_type": "markdown",
   "id": "94f980c0",
   "metadata": {},
   "source": [
    "**Aufgabe 4: Hexadezimal $\\rightarrow$ Dezimal**\n",
    "\n",
    "Wandle die folgenden Hexadezimalzahlen in Dezimalzahlen um:"
   ]
  },
  {
   "cell_type": "code",
   "execution_count": null,
   "id": "a90fcd1d",
   "metadata": {},
   "outputs": [],
   "source": [
    "# Hexadezimalzahl\n",
    "hex_a = \"1A\"\n",
    "\n",
    "# Deine Lösung (Dezimal):\n",
    "#"
   ]
  },
  {
   "cell_type": "code",
   "execution_count": null,
   "id": "602d1a4b",
   "metadata": {},
   "outputs": [],
   "source": [
    "# Hexadezimalzahl\n",
    "hex_b = \"F8\"\n",
    "\n",
    "# Deine Lösung (Dezimal):\n",
    "#"
   ]
  },
  {
   "cell_type": "markdown",
   "id": "6d46c3af",
   "metadata": {},
   "source": [
    "**Zusatzaufgabe: Umwandlungskette**\n",
    "\n",
    "Wandle die folgende Hexadezimalzahl zuerst in Binär und dann in Dezimal um:"
   ]
  },
  {
   "cell_type": "code",
   "execution_count": 8,
   "id": "202e6bc7",
   "metadata": {},
   "outputs": [],
   "source": [
    "# Hexadezimalzahl\n",
    "hex_c = \"D4\"\n",
    "\n",
    "# Deine Lösung (Binär):\n",
    "#\n",
    "# Deine Lösung (Dezimal):\n",
    "#"
   ]
  },
  {
   "cell_type": "markdown",
   "id": "4928dc5e",
   "metadata": {},
   "source": [
    "**Lösungen (Mit Python überprüfen)**\n",
    "\n",
    "Du kannst die **bin()**, **hex()**, **int()** und andere integrierte Python-Funktionen nutzen, um deine Ergebnisse zu überprüfen. Beachte, dass die Funktionen oft Präfixe wie 0b für binär und 0x für hexadezimal ausgeben oder erwarten."
   ]
  },
  {
   "cell_type": "code",
   "execution_count": 10,
   "id": "f0c84151",
   "metadata": {},
   "outputs": [
    {
     "name": "stdout",
     "output_type": "stream",
     "text": [
      "Aufgabe 1\n",
      "42 (Dezimal) -> 0b101010 (Binär)\n",
      "201 (Dezimal) -> 0b11001001 (Binär)\n",
      "\n",
      "Aufgabe 2\n",
      "110101 (Binär) -> 53 (Dezimal)\n",
      "10001111 (Binär) -> 143 (Dezimal)\n",
      "\n",
      "Aufgabe 3\n",
      "11100101 (Binär) -> 0xe5 (Hexadezimal)\n",
      "110111100010 (Binär) -> 0xde2 (Hexadezimal)\n",
      "\n",
      "Aufgabe 4\n",
      "1A (Hex) -> 26 (Dezimal)\n",
      "F8 (Hex) -> 248 (Dezimal)\n",
      "\n",
      "Zusatzaufgabe\n",
      "D4 (Hex) -> 0b11010100 (Binär)\n",
      "D4 (Hex) -> 212 (Dezimal)\n"
     ]
    }
   ],
   "source": [
    "# Aufgabe 1 (Dezimal -> Binär)\n",
    "print(\"Aufgabe 1\")\n",
    "print(f\"42 (Dezimal) -> {bin(42)} (Binär)\")\n",
    "print(f\"201 (Dezimal) -> {bin(201)} (Binär)\")\n",
    "print(\"\")\n",
    "\n",
    "# Aufgabe 2 (Binär -> Dezimal)\n",
    "print(\"Aufgabe 2\")\n",
    "print(f\"110101 (Binär) -> {int('110101', 2)} (Dezimal)\")\n",
    "print(f\"10001111 (Binär) -> {int('10001111', 2)} (Dezimal)\")\n",
    "print(\"\")\n",
    "\n",
    "# Aufgabe 3 (Binär -> Hexadezimal)\n",
    "print(\"Aufgabe 3\")\n",
    "print(f\"11100101 (Binär) -> {hex(int('11100101', 2))} (Hexadezimal)\")\n",
    "# Oder direkt über Dezimal: print(hex(201))\n",
    "print(f\"110111100010 (Binär) -> {hex(int('110111100010', 2))} (Hexadezimal)\")\n",
    "print(\"\")\n",
    "\n",
    "# Aufgabe 4 (Hexadezimal -> Dezimal)\n",
    "print(\"Aufgabe 4\")\n",
    "print(f\"1A (Hex) -> {int('1A', 16)} (Dezimal)\")\n",
    "print(f\"F8 (Hex) -> {int('F8', 16)} (Dezimal)\")\n",
    "print(\"\")\n",
    "\n",
    "# Zusatzaufgabe (D4 -> Binär -> Dezimal)\n",
    "print(\"Zusatzaufgabe\")\n",
    "dez_d4 = int('D4', 16)\n",
    "print(f\"D4 (Hex) -> {bin(dez_d4)} (Binär)\")\n",
    "print(f\"D4 (Hex) -> {dez_d4} (Dezimal)\")"
   ]
  }
 ],
 "metadata": {
  "kernelspec": {
   "display_name": "base",
   "language": "python",
   "name": "python3"
  },
  "language_info": {
   "codemirror_mode": {
    "name": "ipython",
    "version": 3
   },
   "file_extension": ".py",
   "mimetype": "text/x-python",
   "name": "python",
   "nbconvert_exporter": "python",
   "pygments_lexer": "ipython3",
   "version": "3.12.4"
  }
 },
 "nbformat": 4,
 "nbformat_minor": 5
}
