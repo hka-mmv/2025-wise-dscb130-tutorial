{
 "cells": [
  {
   "cell_type": "markdown",
   "id": "97189b10-02d6-4ef3-b609-75002bc9d3a0",
   "metadata": {},
   "source": [
    "# Datentypen in Python:\n",
    "\n",
    "Variablen können Daten speichern und diese Daten haben bestimmte Typen mit jeweils bestimmten einzigartigen Eigenschaften.\n",
    "\n",
    "Python Built-in Datentypen(die 4 häufigsten):\n",
    "- string (str) = text Typ\n",
    "- integer (int) = Ganzzahl, also ohne Nachkommastelle\n",
    "- float = Gleitkommazahl, Zahl mit Nachkommastelle\n",
    "- bool = Boolean, Wahrheitswert, also entweder wahr(True) oder falsch(False)\n",
    "\n",
    "Python erkennt im Gegensatz zu anderen Programmiersprachen den Datentyp automatisch wenn eine Variable erstellt wird und weist ihn zu. \n",
    "Datentyp-Zuweisung kann auch manuell erzwungen werden(Typkonvertierung; Type-converstoin/casting)"
   ]
  },
  {
   "cell_type": "code",
   "execution_count": null,
   "id": "ec2d30e0-809b-4f2c-8548-a911df047e68",
   "metadata": {},
   "outputs": [],
   "source": [
    "# string\n",
    "# wird mit \" \" oder ' ' festgelegt\n",
    "x = \"Das ist ein String\"\n",
    "print(x)"
   ]
  },
  {
   "cell_type": "code",
   "execution_count": null,
   "id": "c782cb02-3d28-4c55-aaba-4f9ed67c57eb",
   "metadata": {
    "scrolled": true
   },
   "outputs": [],
   "source": [
    "# integer\n",
    "# Ziffern von 0-9\n",
    "x = 2\n",
    "y = -57\n",
    "z = 0\n",
    "print(x,y,z)"
   ]
  },
  {
   "cell_type": "code",
   "execution_count": null,
   "id": "4fa54833-db8a-4859-9dd5-5f63e1ab0d05",
   "metadata": {},
   "outputs": [],
   "source": [
    "# float\n",
    "# Komma wird durch . dargestellt! Nicht durch , !!!!\n",
    "x = 2.0\n",
    "y = -8.9\n",
    "z = 999.9999\n",
    "print(x,y,z)"
   ]
  },
  {
   "cell_type": "code",
   "execution_count": null,
   "id": "498a13bf-674c-475a-8368-defb19941aed",
   "metadata": {},
   "outputs": [],
   "source": [
    "# bools\n",
    "# Variablen können nur True oder False zugewiesen werden. Großschreibung IST Notwendig\n",
    "x = True\n",
    "y = False\n",
    "print(x,y)"
   ]
  },
  {
   "cell_type": "markdown",
   "id": "69b1697e-a341-4ee7-92e4-9b3980b061ca",
   "metadata": {},
   "source": [
    "type() Funktion:\n",
    "\n",
    "Damit kann der Typ einer Variable einfach überprüft werden"
   ]
  },
  {
   "cell_type": "code",
   "execution_count": null,
   "id": "012801c9-7e38-4488-a1ec-df4f1291bbce",
   "metadata": {},
   "outputs": [],
   "source": [
    "a = \"Hallo\"\n",
    "b = 42\n",
    "c = \"43\"\n",
    "d = 4.5\n",
    "\n",
    "# Variable in der Klammer je nach bedarf ändern\n",
    "type(a)"
   ]
  },
  {
   "cell_type": "markdown",
   "id": "dd572f3c-62ea-46f4-912d-9e00553e8719",
   "metadata": {},
   "source": [
    "# Datentypen Aktionen:\n",
    "\n",
    "| Datentyp | Typische Aktionen / Beispiele |\n",
    "|-----------|-------------------------------|\n",
    "| str | Verbinden (+), Wiederholen (*) <br>`\"Hallo \" + \"Welt\"` → `\"Hallo Welt\"` |\n",
    "| int | + - * / Rechnen, zählen, vergleichen  <br>`a = 5 + 3` → `8` |\n",
    "| float | Rechnen mit Dezimalzahlen <br>`preis = 3.5 * 2` → `7.0` |\n",
    "| bool | Logik, Vergleiche <br>`x = 5 > 3` → `True` |"
   ]
  },
  {
   "cell_type": "code",
   "execution_count": null,
   "id": "f77399ab-dc61-419f-a94b-273b11f69438",
   "metadata": {},
   "outputs": [],
   "source": [
    "# string Aktionen\n",
    "\n",
    "wort1 = \"Hallo \"\n",
    "wort2 = \"Welt\"\n",
    "satz = wort1 + wort2\n",
    "wiederholung = wort1 * 3\n",
    "\n",
    "print(wort2)\n",
    "print(satz)\n",
    "print(wiederholung)"
   ]
  },
  {
   "cell_type": "code",
   "execution_count": null,
   "id": "9dccb473-843c-46ad-a34d-10f777a5a990",
   "metadata": {},
   "outputs": [],
   "source": [
    "# integer Aktionen\n",
    "a = 5\n",
    "b = 3\n",
    "summe = a + b\n",
    "produkt = a * b\n",
    "vergleich = a > b\n",
    "\n",
    "print(summe)\n",
    "print(produkt)\n",
    "print(vergleich)"
   ]
  },
  {
   "cell_type": "code",
   "execution_count": null,
   "id": "8393e5eb-73f0-447c-bff8-94028c5042b1",
   "metadata": {},
   "outputs": [],
   "source": [
    "# float Aktionen\n",
    "preis = 3.5\n",
    "anzahl = 2\n",
    "gesamt = preis * anzahl\n",
    "\n",
    "print(gesamt)"
   ]
  },
  {
   "cell_type": "code",
   "execution_count": null,
   "id": "9a266ace-630c-49a0-a6c6-787e17107d99",
   "metadata": {},
   "outputs": [],
   "source": [
    "# bool Aktionen\n",
    "x = 5 > 3\n",
    "y = 10 == 5  # ein = bedeutet Zuweisung, zwei == bedeuten Vergleich\n",
    "\n",
    "print(x)\n",
    "print(y)"
   ]
  },
  {
   "cell_type": "markdown",
   "id": "805fb995-950a-443d-98bb-507af2730efd",
   "metadata": {},
   "source": [
    "# Datentypumwandlung (auch Type-Casting):\n",
    "\n",
    "Ist das umwandeln von Datentypen bzw. das Erzwingen dass der Inhalt einer Variable ein bestimmter Datentyp sein MUSS."
   ]
  },
  {
   "cell_type": "code",
   "execution_count": null,
   "id": "d1429f24-451d-4b74-99a7-ddaf7952b42d",
   "metadata": {
    "collapsed": true,
    "jupyter": {
     "outputs_hidden": true
    }
   },
   "outputs": [],
   "source": [
    "# string zu integer\n",
    "a = \"5\"\n",
    "b = int(a)\n",
    "print(b, type(b))\n",
    "\n",
    "# string zu float\n",
    "x = \"3.14\"\n",
    "y = float(x)\n",
    "print(y, type(y))\n",
    "\n",
    "# integer zu string\n",
    "z = str(42)\n",
    "print(z, type(z))\n",
    "\n",
    "# integer zu bool\n",
    "# hier gilt (null oder leerer Inhalt = False) und (vorhandener Inhalt = True)\n",
    "print(bool(0))     # False wegen 0\n",
    "print(bool())      # False weil leer\n",
    "print(bool(5))     # True\n"
   ]
  },
  {
   "cell_type": "markdown",
   "id": "bfbab9d6-7d22-4745-9468-a6c924b60100",
   "metadata": {},
   "source": [
    "# Aufgabe 1:"
   ]
  },
  {
   "cell_type": "code",
   "execution_count": null,
   "id": "0959721c-f22f-4ed7-8727-32a7dc44120b",
   "metadata": {},
   "outputs": [],
   "source": [
    "# Aufgabe 1.1:\n",
    "# Lege zwei ganze Zahlen an und führe damit einfache Rechnungen durch.\n",
    "# a) Addiere sie\n",
    "# b) Multipliziere sie\n",
    "# c) Prüfe, ob die erste Zahl größer ist als die zweite."
   ]
  },
  {
   "cell_type": "code",
   "execution_count": null,
   "id": "5b2e6638-94dd-46e2-b85d-2c2eb619a8fd",
   "metadata": {},
   "outputs": [],
   "source": [
    "# Aufgabe 1.2:\n",
    "# Rechne mit Kommazahlen (floats)!\n",
    "# a) Erstelle zwei float-Variablen\n",
    "# b) Berechne den Durchschnitt der beiden Zahlen"
   ]
  },
  {
   "cell_type": "code",
   "execution_count": null,
   "id": "768cad89-abfb-4a47-b7af-0a628bc46cba",
   "metadata": {},
   "outputs": [],
   "source": [
    "# Aufgabe 1.3:\n",
    "# Arbeite mit Texten (Strings)!\n",
    "# a) Erstelle zwei Wörter als Variablen\n",
    "# b) Verbinde sie mit + zu einem Satz"
   ]
  },
  {
   "cell_type": "code",
   "execution_count": null,
   "id": "0aa0ed11-1c90-46fa-93eb-d22eb1dfefa6",
   "metadata": {},
   "outputs": [],
   "source": [
    "# Aufgabe 1.4:\n",
    "# Teste logische Vergleiche!\n",
    "# a) Erstelle zwei Zahlen\n",
    "# b) Prüfe, ob sie gleich sind (==)\n",
    "# c) Prüfe, ob die erste größer ist\n",
    "# d) Gib die Ergebnisse aus."
   ]
  },
  {
   "cell_type": "code",
   "execution_count": null,
   "id": "fd0924a4-2099-4670-aeed-5942c4eaeba9",
   "metadata": {},
   "outputs": [],
   "source": [
    "# Aufgabe 1.5:\n",
    "# Übe die Umwandlung zwischen Datentypen!\n",
    "# a) Wandle den Text \"25\" in eine ganze Zahl um\n",
    "# b) Wandle die Zahl 3.5 in Text um\n",
    "# c) Wandle den Text \"0\" in bool um und überlege, warum das Ergebnis so ist"
   ]
  },
  {
   "cell_type": "markdown",
   "id": "fa35b71b-f7e7-4c80-92b6-0a139f3f3252",
   "metadata": {},
   "source": [
    "# Aufgabe 2:"
   ]
  },
  {
   "cell_type": "code",
   "execution_count": null,
   "id": "7786b069-f39b-425c-9f09-e62d244edb32",
   "metadata": {},
   "outputs": [],
   "source": [
    "# Aufgabe 2.1:\n",
    "# Lege zwei Zahlen an – eine ganze Zahl (int) und eine Kommazahl (float).\n",
    "# Berechne:\n",
    "# a) ihre Summe\n",
    "# b) ihr Produkt\n",
    "# c) den Durchschnitt (auf 2 Nachkommastellen gerundet)\n",
    "\n",
    "# Tipp: Verwende round()."
   ]
  },
  {
   "cell_type": "code",
   "execution_count": null,
   "id": "9b1c860f-5d9f-4434-b8b7-9fa777fd3817",
   "metadata": {},
   "outputs": [],
   "source": [
    "# Aufgabe 2.2:\n",
    "# Frage den Benutzer nach einer ganzen Zahl.\n",
    "# Wandle die Eingabe in int um.\n",
    "# Berechne:\n",
    "# a) die Verdopplung dieser Zahl\n",
    "# b) die Hälfte dieser Zahl\n",
    "# c) gib beides aus"
   ]
  },
  {
   "cell_type": "code",
   "execution_count": null,
   "id": "8551138e-0a55-415d-89c1-41c874238659",
   "metadata": {},
   "outputs": [],
   "source": [
    "# Aufgabe 2.3:\n",
    "# Erstelle zwei String-Variablen, einen Vornamen und Nachnamen.\n",
    "# a) Verbinde sie mit einem Leerzeichen dazwischen.\n",
    "# b) Gib den kompletten Namen aus.\n",
    "# c) Gib aus, wie viele Zeichen der vollständige Name enthält (len())."
   ]
  },
  {
   "cell_type": "code",
   "execution_count": null,
   "id": "aae2ebdd-bdf1-493a-a4cb-1a9061ef8f6d",
   "metadata": {},
   "outputs": [],
   "source": [
    "# Aufgabe 2.4:\n",
    "# a) Lege zwei Zahlen an\n",
    "# b) Prüfe, ob die erste größer ist als die zweite\n",
    "# c) Prüfe, ob beide gleich sind\n",
    "# d) Gib die Ergebnisse als True oder False aus"
   ]
  }
 ],
 "metadata": {
  "kernelspec": {
   "display_name": "Python 3 (ipykernel)",
   "language": "python",
   "name": "python3"
  },
  "language_info": {
   "codemirror_mode": {
    "name": "ipython",
    "version": 3
   },
   "file_extension": ".py",
   "mimetype": "text/x-python",
   "name": "python",
   "nbconvert_exporter": "python",
   "pygments_lexer": "ipython3",
   "version": "3.12.8"
  }
 },
 "nbformat": 4,
 "nbformat_minor": 5
}
